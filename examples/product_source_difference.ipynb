{
 "cells": [
  {
   "cell_type": "code",
   "execution_count": null,
   "metadata": {},
   "outputs": [],
   "source": [
    "#for relative open masslib\n",
    "import sys\n",
    "sys.path.append('..')"
   ]
  },
  {
   "cell_type": "code",
   "execution_count": null,
   "metadata": {
    "scrolled": true
   },
   "outputs": [],
   "source": [
    "import pandas as pd\n",
    "import numpy as np\n",
    "import matplotlib.pyplot as plt\n",
    "from nhsmasslib.mass import MassSpectrum\n",
    "from nhsmasslib.mass import VanKrevelen\n",
    "from nhsmasslib.mass import Tmds\n",
    "from nhsmasslib.mass import Reaction\n",
    "from nhsmasslib.brutto_generator import brutto_gen"
   ]
  },
  {
   "cell_type": "markdown",
   "metadata": {},
   "source": [
    "#### Discovery difference of soruce with product\n",
    "\n",
    "In this example source was modifed by hydroquinone. So in product we expect to find source peak + quinone mass."
   ]
  },
  {
   "cell_type": "markdown",
   "metadata": {},
   "source": [
    "#### Load source"
   ]
  },
  {
   "cell_type": "code",
   "execution_count": null,
   "metadata": {},
   "outputs": [],
   "source": [
    "sourse = MassSpectrum().load('data/sourse.csv', mapper={'m/z':'mass','I':'intensity'}, sep=',', take_columns=['mass','intensity'])\n",
    "gdf = brutto_gen(elems={'C':(1,40),'H':(0,80), 'O':(0,40),'N':(0,2)})\n",
    "sourse = sourse.assign(generated_bruttos_table=gdf, rel_error=0.5)\n",
    "vk = VanKrevelen(sourse.table).draw_scatter(nitrogen=True)"
   ]
  },
  {
   "cell_type": "markdown",
   "metadata": {},
   "source": [
    "#### Load product"
   ]
  },
  {
   "cell_type": "code",
   "execution_count": null,
   "metadata": {},
   "outputs": [],
   "source": [
    "product = MassSpectrum().load('data/product.csv', mapper={'m/z':'mass','I':'intensity'}, sep=',', take_columns=['mass','intensity'])\n",
    "gdf = brutto_gen(elems={'C':(1,40),'H':(0,80), 'O':(0,40),'N':(0,2)})\n",
    "product = product.assign(generated_bruttos_table=gdf, rel_error=0.5)\n",
    "vk = VanKrevelen(product.table).draw_scatter(nitrogen=True)"
   ]
  },
  {
   "cell_type": "markdown",
   "metadata": {},
   "source": [
    "#### We can look difference spectrum"
   ]
  },
  {
   "cell_type": "code",
   "execution_count": null,
   "metadata": {},
   "outputs": [],
   "source": [
    "vk = VanKrevelen(product - sourse).draw_scatter(nitrogen=True)"
   ]
  },
  {
   "cell_type": "markdown",
   "metadata": {},
   "source": [
    "#### Now calculate total mass differnce statistic\n",
    "\n",
    "We use restrict brutto gen because we expect to find six carbon atom difference. But you can study another atoms ranges"
   ]
  },
  {
   "cell_type": "code",
   "execution_count": null,
   "metadata": {},
   "outputs": [],
   "source": [
    "tmds_spec = Tmds().calc(sourse, product, p=0.2) #by varifiy p-value we can choose how much mass-diff we will take\n",
    "tmds_spec = tmds_spec.assign(gdf={'C':(6,7),'H':(0,13), 'O':(0,5)})\n",
    "tmds_spec = tmds_spec.calculate_mass()\n",
    "tmds_spec.draw()"
   ]
  },
  {
   "cell_type": "code",
   "execution_count": null,
   "metadata": {},
   "outputs": [],
   "source": [
    "tmds_spec.table.sort_values(by='probability', ascending=False)"
   ]
  },
  {
   "cell_type": "markdown",
   "metadata": {},
   "source": [
    "Now we can see that most abudant mass-difference is C4H4O2, that contain in quinone fragment. We can propose that modification by quinone is occure."
   ]
  },
  {
   "cell_type": "markdown",
   "metadata": {},
   "source": [
    "#### Find source and product peaks that was modifed\n",
    "\n",
    "Now we look which peaks in sourse was modifed by C4H4O2 fragment, and find them in product."
   ]
  },
  {
   "cell_type": "code",
   "execution_count": null,
   "metadata": {},
   "outputs": [],
   "source": [
    "gdf = brutto_gen(elems={'C':(4,5),'H':(4,5), 'O':(2,3)})"
   ]
  },
  {
   "cell_type": "code",
   "execution_count": null,
   "metadata": {},
   "outputs": [],
   "source": [
    "gdf"
   ]
  },
  {
   "cell_type": "code",
   "execution_count": null,
   "metadata": {},
   "outputs": [],
   "source": [
    "reaction = Reaction(sourse=sourse, product=product)"
   ]
  },
  {
   "cell_type": "code",
   "execution_count": null,
   "metadata": {},
   "outputs": [],
   "source": [
    "reaction = reaction.find_modification(gdf)"
   ]
  },
  {
   "cell_type": "code",
   "execution_count": null,
   "metadata": {},
   "outputs": [],
   "source": [
    "reaction.draw_modification()"
   ]
  }
 ],
 "metadata": {
  "kernelspec": {
   "display_name": "Python 3.8.8 ('base')",
   "language": "python",
   "name": "python3"
  },
  "language_info": {
   "codemirror_mode": {
    "name": "ipython",
    "version": 3
   },
   "file_extension": ".py",
   "mimetype": "text/x-python",
   "name": "python",
   "nbconvert_exporter": "python",
   "pygments_lexer": "ipython3",
   "version": "3.8.8"
  },
  "vscode": {
   "interpreter": {
    "hash": "7456f8c2ffaed130786514d94f2c51fd19c1c3ba9e4278dcccd00a001abcd749"
   }
  }
 },
 "nbformat": 4,
 "nbformat_minor": 4
}
