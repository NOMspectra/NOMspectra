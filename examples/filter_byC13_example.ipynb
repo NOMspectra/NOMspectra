{
 "cells": [
  {
   "cell_type": "code",
   "execution_count": null,
   "metadata": {
    "scrolled": true
   },
   "source": [
    "import pandas as pd\n",
    "import numpy as np\n",
    "import matplotlib.pyplot as plt\n",
    "from mass import MassSpectrum\n",
    "from mass import VanKrevelen"
   ],
   "outputs": []
  },
  {
   "cell_type": "code",
   "execution_count": null,
   "metadata": {},
   "outputs": [],
   "source": [
    "mapper = {\"m/z\": \"mass\", \"I\": \"I\"}\n",
    "fa = MassSpectrum().load(\"data/fa.csv\",\n",
    "                         mapper=mapper,\n",
    "                         sep=',',\n",
    "                         ignore_columns=[\"Name\", \"I %\", \"Res.\", \"S/N\"])"
   ]
  },
  {
   "cell_type": "code",
   "execution_count": null,
   "metadata": {},
   "outputs": [],
   "source": [
    "fa_without_filter = fa.assign_dummy(elems='CHONS').drop_unassigned()"
   ]
  },
  {
   "cell_type": "code",
   "execution_count": null,
   "metadata": {},
   "outputs": [],
   "source": [
    "fa_c13_filter = fa.filter_by_C13(remove=True, max_charge=3)\n",
    "fa_c13_filter.table['mass'] *= fa_c13_filter.table['C13_peak_z'] #find true mass by multify to charge\n",
    "fa_c13_filter = fa_c13_filter.assign_dummy(elems='CHONS').drop_unassigned()"
   ]
  },
  {
   "cell_type": "code",
   "execution_count": null,
   "metadata": {},
   "outputs": [],
   "source": [
    "fig, ax = plt.subplots(ncols=2, figsize=(10,4))\n",
    "\n",
    "vk = VanKrevelen(fa_without_filter.table)\n",
    "vk.draw_scatter(ax=ax[0], s=5, alpha=0.5)\n",
    "ax[0].set_title(f'whithout C13 filter {fa_without_filter.table.shape[0]} brutto')\n",
    "\n",
    "for z in (1,2,3):\n",
    "    vk = VanKrevelen(fa_c13_filter.table.loc[fa_c13_filter.table[\"C13_peak_z\"] == z])\n",
    "    vk.draw_scatter(ax=ax[1], s=5, alpha=0.5, label=f'z={z}')\n",
    "ax[1].legend()\n",
    "ax[1].set_title(f'C13 filter, {fa_c13_filter.table.shape[0]} brutto')"
   ]
  }
 ],
 "metadata": {
  "kernelspec": {
   "display_name": "Python 3.8.2 32-bit",
   "language": "python",
   "name": "python38232bit6154a548f0f0460a9b0df1b483e897a1"
  },
  "language_info": {
   "codemirror_mode": {
    "name": "ipython",
    "version": 3
   },
   "file_extension": ".py",
   "mimetype": "text/x-python",
   "name": "python",
   "nbconvert_exporter": "python",
   "pygments_lexer": "ipython3",
   "version": "3.8.2-final"
  }
 },
 "nbformat": 4,
 "nbformat_minor": 4
}