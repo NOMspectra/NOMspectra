{
 "cells": [
  {
   "cell_type": "code",
   "execution_count": null,
   "metadata": {
    "scrolled": true
   },
   "outputs": [],
   "source": [
    "import sys\n",
    "sys.path.append('..')"
   ]
  },
  {
   "cell_type": "code",
   "execution_count": null,
   "metadata": {},
   "outputs": [],
   "source": [
    "import pandas as pd\n",
    "import numpy as np\n",
    "import matplotlib.pyplot as plt\n",
    "from masslib.mass import MassSpectrum\n",
    "from masslib.mass import VanKrevelen\n",
    "from masslib.brutto_generator import brutto_gen"
   ]
  },
  {
   "cell_type": "markdown",
   "metadata": {},
   "source": [
    "#### Generate brutto formulas exactly as in transhumus"
   ]
  },
  {
   "cell_type": "code",
   "execution_count": null,
   "metadata": {},
   "outputs": [],
   "source": [
    "gdf = brutto_gen(elems={'C':(1,61),'H':(0,121), 'O':(0,31),'N':(0,1),\"S\":(0,1)})"
   ]
  },
  {
   "cell_type": "markdown",
   "metadata": {},
   "source": [
    "#### Loading and assign brutto formules by this lib"
   ]
  },
  {
   "cell_type": "code",
   "execution_count": null,
   "metadata": {},
   "outputs": [],
   "source": [
    "spec = MassSpectrum().load(filename=\"data/sample1.csv\",\n",
    "                            mapper={'mw':'mass', \"relativeAbundance\":'intensity'},\n",
    "                            take_columns=['mass','intensity'],\n",
    "                            sep=',',\n",
    "                            )\n",
    "spec = spec.assign(generated_bruttos_table=gdf, rel_error=1)\n",
    "spec.draw()\n",
    "fig, ax = plt.subplots(figsize=(4, 4), dpi=75)\n",
    "vk = VanKrevelen(spec.table)\n",
    "vk.draw_scatter(ax=ax)"
   ]
  },
  {
   "cell_type": "markdown",
   "metadata": {},
   "source": [
    "#### Load assigned mass-list calculated in transhumus"
   ]
  },
  {
   "cell_type": "code",
   "execution_count": null,
   "metadata": {},
   "outputs": [],
   "source": [
    "mapper = {\"mw\": \"mass\", \"relativeAbundance\": 'intensity'}\n",
    "transhumus = MassSpectrum().load(\"data/sample1.csv\",\n",
    "                            mapper = mapper,\n",
    "                            sep=',',\n",
    "                            ignore_columns=[\"peakNo\", \"errorPPM\", \"DBE\", \"class\", \"z\"]\n",
    "                           )\n",
    "transhumus.draw()\n",
    "vk = VanKrevelen(transhumus.table).draw_scatter()"
   ]
  },
  {
   "cell_type": "markdown",
   "metadata": {},
   "source": [
    "#### Search for common formulas in two methods"
   ]
  },
  {
   "cell_type": "code",
   "execution_count": null,
   "metadata": {},
   "outputs": [],
   "source": [
    "common = spec & transhumus\n",
    "fig, ax = plt.subplots(figsize=(4, 4), dpi=75)\n",
    "vk = VanKrevelen(common.table)\n",
    "vk.draw_scatter(ax=ax)"
   ]
  },
  {
   "cell_type": "markdown",
   "metadata": {},
   "source": [
    "#### Search for the symmetric difference between the two methods"
   ]
  },
  {
   "cell_type": "code",
   "execution_count": null,
   "metadata": {},
   "outputs": [],
   "source": [
    "common = spec ^ transhumus\n",
    "fig, ax = plt.subplots(figsize=(4, 4), dpi=75)\n",
    "vk = VanKrevelen(common.table)\n",
    "vk.draw_scatter(ax=ax)"
   ]
  },
  {
   "cell_type": "code",
   "execution_count": null,
   "metadata": {},
   "outputs": [],
   "source": []
  }
 ],
 "metadata": {
  "kernelspec": {
   "display_name": "Python 3.8.8 ('base')",
   "language": "python",
   "name": "python3"
  },
  "language_info": {
   "codemirror_mode": {
    "name": "ipython",
    "version": 3
   },
   "file_extension": ".py",
   "mimetype": "text/x-python",
   "name": "python",
   "nbconvert_exporter": "python",
   "pygments_lexer": "ipython3",
   "version": "3.8.8"
  },
  "vscode": {
   "interpreter": {
    "hash": "7456f8c2ffaed130786514d94f2c51fd19c1c3ba9e4278dcccd00a001abcd749"
   }
  }
 },
 "nbformat": 4,
 "nbformat_minor": 4
}
