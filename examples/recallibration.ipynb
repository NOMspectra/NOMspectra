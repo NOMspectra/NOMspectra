{
 "cells": [
  {
   "cell_type": "code",
   "execution_count": null,
   "metadata": {},
   "outputs": [],
   "source": [
    "#for relative open masslib\n",
    "import sys\n",
    "sys.path.append('..')"
   ]
  },
  {
   "cell_type": "code",
   "execution_count": null,
   "metadata": {
    "scrolled": true
   },
   "outputs": [],
   "source": [
    "import pandas as pd\n",
    "import numpy as np\n",
    "import matplotlib.pyplot as plt\n",
    "from nhsmasslib.mass import MassSpectrum\n",
    "from nhsmasslib.mass import VanKrevelen\n",
    "from nhsmasslib.mass import ErrorTable\n",
    "from nhsmasslib.brutto import brutto_gen"
   ]
  },
  {
   "cell_type": "markdown",
   "metadata": {},
   "source": [
    "#### Load bad spectra"
   ]
  },
  {
   "cell_type": "code",
   "execution_count": null,
   "metadata": {},
   "outputs": [],
   "source": [
    "spec = MassSpectrum().load(filename=\"data/recallibrate.txt\",\n",
    "                            mapper={'m/z':'mass', 'Intensity':'intensity'},\n",
    "                            take_columns=['mass','intensity'],\n",
    "                            sep='\\t',\n",
    "                            intens_min=50\n",
    "                            )\n",
    "fig, ax = plt.subplots(figsize=(4, 4), dpi=75)\n",
    "spec.draw(ax=ax)"
   ]
  },
  {
   "cell_type": "markdown",
   "metadata": {},
   "source": [
    "#### Try to assigne witwout reaallibration"
   ]
  },
  {
   "cell_type": "code",
   "execution_count": null,
   "metadata": {},
   "outputs": [],
   "source": [
    "spec = spec.assign()\n",
    "vk = VanKrevelen(spec.table).draw_scatter()"
   ]
  },
  {
   "cell_type": "markdown",
   "metadata": {},
   "source": [
    "#### Self-assign by mass-difference statisitc. Take a lot of time"
   ]
  },
  {
   "cell_type": "code",
   "execution_count": null,
   "metadata": {},
   "outputs": [],
   "source": [
    "spec = MassSpectrum().load(filename=\"data/recallibrate.txt\",\n",
    "                            mapper={'m/z':'mass', 'Intensity':'intensity'},\n",
    "                            take_columns=['mass','intensity'],\n",
    "                            sep='\\t',\n",
    "                            intens_min=50\n",
    "                            )\n",
    "\n",
    "err = ErrorTable().massdiff_error(spec)\n",
    "spec = spec.recallibrate(err)\n",
    "spec = spec.assign()\n",
    "vk = VanKrevelen(spec.table).draw_scatter()"
   ]
  },
  {
   "cell_type": "markdown",
   "metadata": {},
   "source": [
    "#### Recallibrate by etalon sample"
   ]
  },
  {
   "cell_type": "code",
   "execution_count": null,
   "metadata": {},
   "outputs": [],
   "source": [
    "spec = MassSpectrum().load(filename=\"data/recallibrate.txt\",\n",
    "                            mapper={'m/z':'mass', 'Intensity':'intensity'},\n",
    "                            take_columns=['mass','intensity'],\n",
    "                            sep='\\t',\n",
    "                            intens_min=50\n",
    "                            )\n",
    "\n",
    "etalon = MassSpectrum().load(filename=\"data/etalon.txt\",\n",
    "                            mapper={'mass':'mass', 'intensity':'intensity'},\n",
    "                            take_columns=['mass','intensity'],\n",
    "                            sep=',',\n",
    "                            )\n",
    "\n",
    "err = ErrorTable().etalon_error(spec=spec, etalon=etalon)\n",
    "spec = spec.recallibrate(err)\n",
    "spec = spec.assign()\n",
    "vk = VanKrevelen(spec.table).draw_scatter()"
   ]
  },
  {
   "cell_type": "markdown",
   "metadata": {},
   "source": [
    "#### Self-recallibrate by assign error"
   ]
  },
  {
   "cell_type": "code",
   "execution_count": null,
   "metadata": {},
   "outputs": [],
   "source": [
    "spec = MassSpectrum().load(filename=\"data/recallibrate.txt\",\n",
    "                            mapper={'m/z':'mass', 'Intensity':'intensity'},\n",
    "                            take_columns=['mass','intensity'],\n",
    "                            sep='\\t',\n",
    "                            intens_min=50\n",
    "                            )\n",
    "                            \n",
    "#Here we need to extend search range to estimate diaposaone of optimal assigment\n",
    "err = ErrorTable().assign_error(spec)\n",
    "spec = spec.recallibrate(err)\n",
    "spec = spec.assign()\n",
    "vk = VanKrevelen(spec.table).draw_scatter()"
   ]
  },
  {
   "cell_type": "code",
   "execution_count": null,
   "metadata": {},
   "outputs": [],
   "source": [
    "spec = MassSpectrum().load(filename=\"data/recallibrate.txt\",\n",
    "                            mapper={'m/z':'mass', 'Intensity':'intensity'},\n",
    "                            take_columns=['mass','intensity'],\n",
    "                            sep='\\t',\n",
    "                            intens_min=50\n",
    "                            )\n",
    "\n",
    "spec = spec.recallibrate(err)\n",
    "spec = spec.assign()\n",
    "vk = VanKrevelen(spec.table).draw_scatter()"
   ]
  },
  {
   "cell_type": "markdown",
   "metadata": {},
   "source": [
    "#### Set error table by yourself or load from file"
   ]
  },
  {
   "cell_type": "code",
   "execution_count": null,
   "metadata": {},
   "outputs": [],
   "source": [
    "data = [[170, -0.4],\n",
    "        [210, 0.2],\n",
    "        [380, 0.5],\n",
    "        [550, 1.1]]\n",
    "df = pd.DataFrame(data, columns=['mass','ppm'])\n",
    "\n",
    "err = ErrorTable(df).extrapolate() #load and extraoplate data for all diapasone\n",
    "err.show_error()\n",
    "\n",
    "spec = MassSpectrum().load(filename=\"data/recallibrate.txt\",\n",
    "                            mapper={'m/z':'mass', 'Intensity':'intensity'},\n",
    "                            take_columns=['mass','intensity'],\n",
    "                            sep='\\t',\n",
    "                            intens_min=50\n",
    "                            )\n",
    "\n",
    "spec = spec.recallibrate(err)\n",
    "spec = spec.assign()\n",
    "vk = VanKrevelen(spec.table).draw_scatter()"
   ]
  },
  {
   "cell_type": "markdown",
   "metadata": {},
   "source": [
    "#### Get error for restrict diapasone and extrapolate it for full spectra"
   ]
  },
  {
   "cell_type": "code",
   "execution_count": null,
   "metadata": {},
   "outputs": [],
   "source": [
    "spec = MassSpectrum().load(filename=\"data/recallibrate.txt\",\n",
    "                            mapper={'m/z':'mass', 'Intensity':'intensity'},\n",
    "                            take_columns=['mass','intensity'],\n",
    "                            sep='\\t',\n",
    "                            intens_min=50\n",
    "                            )\n",
    "\n",
    "err = ErrorTable().assign_error(spec)"
   ]
  },
  {
   "cell_type": "markdown",
   "metadata": {},
   "source": [
    "As at seen form figure above from 450 error may be not correct, so just short our spectr"
   ]
  },
  {
   "cell_type": "code",
   "execution_count": null,
   "metadata": {},
   "outputs": [],
   "source": [
    "spec = MassSpectrum().load(filename=\"data/recallibrate.txt\",\n",
    "                            mapper={'m/z':'mass', 'Intensity':'intensity'},\n",
    "                            take_columns=['mass','intensity'],\n",
    "                            sep='\\t',\n",
    "                            intens_min=50,\n",
    "                            mass_min=0,\n",
    "                            mass_max=430\n",
    "                            )\n",
    "\n",
    "err = ErrorTable().assign_error(spec)"
   ]
  },
  {
   "cell_type": "markdown",
   "metadata": {},
   "source": [
    "and now we extraoplate this for all data"
   ]
  },
  {
   "cell_type": "code",
   "execution_count": null,
   "metadata": {},
   "outputs": [],
   "source": [
    "err = err.extrapolate(ranges=(200,900))\n",
    "err.show_error()"
   ]
  },
  {
   "cell_type": "code",
   "execution_count": null,
   "metadata": {},
   "outputs": [],
   "source": [
    "spec = spec.recallibrate(err)\n",
    "spec = spec.assign()\n",
    "vk = VanKrevelen(spec.table).draw_scatter()"
   ]
  },
  {
   "cell_type": "markdown",
   "metadata": {},
   "source": [
    "#### Short form for calc recallibration\n",
    "\n",
    "If you dont put error table into recallibrate() method. You can directly say how to recallibrate, by default it is by assigment"
   ]
  },
  {
   "cell_type": "code",
   "execution_count": null,
   "metadata": {},
   "outputs": [],
   "source": [
    "spec = MassSpectrum().load(filename=\"data/recallibrate.txt\",\n",
    "                            mapper={'m/z':'mass', 'Intensity':'intensity'},\n",
    "                            take_columns=['mass','intensity'],\n",
    "                            sep='\\t',\n",
    "                            intens_min=50\n",
    "                            ).assign() #it is necessary to assign it first\n",
    "\n",
    "spec = spec.recallibrate() # it is equal spec.recallibrate(how=\"assign\")\n",
    "spec = spec.assign()\n",
    "vk = VanKrevelen(spec).draw_scatter()"
   ]
  },
  {
   "cell_type": "markdown",
   "metadata": {},
   "source": [
    "or by mass-difference map"
   ]
  },
  {
   "cell_type": "code",
   "execution_count": null,
   "metadata": {},
   "outputs": [],
   "source": [
    "spec = MassSpectrum().load(filename=\"data/recallibrate.txt\",\n",
    "                            mapper={'m/z':'mass', 'Intensity':'intensity'},\n",
    "                            take_columns=['mass','intensity'],\n",
    "                            sep='\\t',\n",
    "                            intens_min=50\n",
    "                            ).assign()\n",
    "\n",
    "spec = spec.recallibrate(how='mdm')\n",
    "spec = spec.assign()\n",
    "vk = VanKrevelen(spec).draw_scatter()"
   ]
  },
  {
   "cell_type": "markdown",
   "metadata": {},
   "source": [
    "and you can send to racallibrate file with etalon (treated and saved by masslib)"
   ]
  },
  {
   "cell_type": "code",
   "execution_count": null,
   "metadata": {},
   "outputs": [],
   "source": [
    "spec = MassSpectrum().load(filename=\"data/recallibrate.txt\",\n",
    "                            mapper={'m/z':'mass', 'Intensity':'intensity'},\n",
    "                            take_columns=['mass','intensity'],\n",
    "                            sep='\\t',\n",
    "                            intens_min=50\n",
    "                            ).assign()\n",
    "\n",
    "spec = spec.recallibrate(how='data/etalon.txt')\n",
    "spec = spec.assign()\n",
    "vk = VanKrevelen(spec).draw_scatter()"
   ]
  },
  {
   "cell_type": "markdown",
   "metadata": {},
   "source": [
    "#### Also use tmds for better result"
   ]
  },
  {
   "cell_type": "code",
   "execution_count": null,
   "metadata": {},
   "outputs": [],
   "source": [
    "spec = MassSpectrum().load(filename=\"data/recallibrate.txt\",\n",
    "                            mapper={'m/z':'mass', 'Intensity':'intensity'},\n",
    "                            take_columns=['mass','intensity'],\n",
    "                            sep='\\t',\n",
    "                            intens_min=50\n",
    "                            ).assign()\n",
    "\n",
    "spec = spec.recallibrate()\n",
    "spec = spec.assign()\n",
    "spec = spec.assign_by_tmds()\n",
    "vk = VanKrevelen(spec).draw_scatter()"
   ]
  },
  {
   "cell_type": "code",
   "execution_count": null,
   "metadata": {},
   "outputs": [],
   "source": []
  }
 ],
 "metadata": {
  "kernelspec": {
   "display_name": "Python 3.8.8 ('base')",
   "language": "python",
   "name": "python3"
  },
  "language_info": {
   "codemirror_mode": {
    "name": "ipython",
    "version": 3
   },
   "file_extension": ".py",
   "mimetype": "text/x-python",
   "name": "python",
   "nbconvert_exporter": "python",
   "pygments_lexer": "ipython3",
   "version": "3.8.8"
  },
  "vscode": {
   "interpreter": {
    "hash": "7456f8c2ffaed130786514d94f2c51fd19c1c3ba9e4278dcccd00a001abcd749"
   }
  }
 },
 "nbformat": 4,
 "nbformat_minor": 4
}
