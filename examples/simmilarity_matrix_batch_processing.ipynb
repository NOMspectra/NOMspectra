{
 "cells": [
  {
   "cell_type": "markdown",
   "metadata": {},
   "source": [
    "#### Usage to plot similarity matrix"
   ]
  },
  {
   "cell_type": "code",
   "execution_count": null,
   "metadata": {},
   "outputs": [],
   "source": [
    "#for relative open masslib\n",
    "import sys\n",
    "sys.path.append('..')"
   ]
  },
  {
   "cell_type": "code",
   "execution_count": null,
   "metadata": {
    "scrolled": true
   },
   "outputs": [],
   "source": [
    "import pandas as pd\n",
    "import numpy as np\n",
    "import matplotlib.pyplot as plt\n",
    "import os\n",
    "from masslib.mass import MassSpectrum\n",
    "from masslib.mass import VanKrevelen\n",
    "from masslib.mass import Tmds\n",
    "from masslib.mass import MassSpectrumList\n",
    "from masslib.brutto_generator import brutto_gen"
   ]
  },
  {
   "cell_type": "markdown",
   "metadata": {},
   "source": [
    "#### Load spectra"
   ]
  },
  {
   "cell_type": "code",
   "execution_count": null,
   "metadata": {},
   "outputs": [],
   "source": [
    "masses = []\n",
    "names = []\n",
    "mapper = {\"mw\": \"mass\", \"relativeAbundance\": \"intensity\", \"formula\":\"brutto\"}\n",
    "for filename in sorted(os.listdir(\"data/similarity/\")):\n",
    "    if filename[-3:] != 'csv':\n",
    "        continue\n",
    "    names.append(filename[:-4])\n",
    "    masses.append(MassSpectrum().load(\n",
    "        f\"data/similarity/{filename}\",\n",
    "        mapper=mapper,\n",
    "        sep=',',\n",
    "        ignore_columns=[\"peakNo\", \"errorPPM\", \"DBE\", \"class\", \"z\"]\n",
    "    ).calculate_mass())  # It's important, that similarity can be calculated only by calculated mass"
   ]
  },
  {
   "cell_type": "markdown",
   "metadata": {},
   "source": [
    "#### Create MassSpectrumList instance"
   ]
  },
  {
   "cell_type": "code",
   "execution_count": null,
   "metadata": {},
   "outputs": [],
   "source": [
    "collection = MassSpectrumList(masses, names)"
   ]
  },
  {
   "cell_type": "markdown",
   "metadata": {},
   "source": [
    "#### Calc and Plot similarity matrix"
   ]
  },
  {
   "cell_type": "code",
   "execution_count": null,
   "metadata": {},
   "outputs": [],
   "source": [
    "collection.calculate_similarity()\n"
   ]
  },
  {
   "cell_type": "code",
   "execution_count": null,
   "metadata": {},
   "outputs": [],
   "source": [
    "collection.draw_similarity()"
   ]
  },
  {
   "cell_type": "markdown",
   "metadata": {},
   "source": [
    "#### Batch processing\n"
   ]
  },
  {
   "cell_type": "code",
   "execution_count": null,
   "metadata": {},
   "outputs": [],
   "source": [
    "squares = pd.DataFrame()\n",
    "\n",
    "for i, spec in enumerate(collection.spectra):\n",
    "\n",
    "    spec = spec.recallibrate(how='mdm')\n",
    "    spec = spec.assign(sign=None)\n",
    "    try:\n",
    "        spec = spec.assign_by_tmds(max_num=100)\n",
    "    except:\n",
    "        pass\n",
    "\n",
    "    spec.draw()\n",
    "    plt.title(collection.names[i])\n",
    "    \n",
    "    collection.spectra[i] = spec\n",
    "\n",
    "    vk = VanKrevelen(spec)\n",
    "    vk.draw_scatter()\n",
    "    plt.title(f'{collection.names[i]}, {len(spec.drop_unassigned())} formulas')\n",
    "\n",
    "    square = vk.squares()\n",
    "    squares[collection.names[i]] = square['value']\n",
    "\n",
    "squares.index = [i for i in range(1,21)]\n",
    "print(squares)"
   ]
  },
  {
   "cell_type": "code",
   "execution_count": null,
   "metadata": {},
   "outputs": [],
   "source": [
    "collection.draw_similarity()"
   ]
  },
  {
   "cell_type": "code",
   "execution_count": null,
   "metadata": {},
   "outputs": [],
   "source": []
  }
 ],
 "metadata": {
  "kernelspec": {
   "display_name": "Python 3.8.8 ('base')",
   "language": "python",
   "name": "python3"
  },
  "language_info": {
   "codemirror_mode": {
    "name": "ipython",
    "version": 3
   },
   "file_extension": ".py",
   "mimetype": "text/x-python",
   "name": "python",
   "nbconvert_exporter": "python",
   "pygments_lexer": "ipython3",
   "version": "3.8.8"
  },
  "vscode": {
   "interpreter": {
    "hash": "7456f8c2ffaed130786514d94f2c51fd19c1c3ba9e4278dcccd00a001abcd749"
   }
  }
 },
 "nbformat": 4,
 "nbformat_minor": 4
}
