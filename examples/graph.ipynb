{
 "cells": [
  {
   "cell_type": "markdown",
   "metadata": {},
   "source": [
    "# Some graph tools"
   ]
  },
  {
   "cell_type": "code",
   "execution_count": 2,
   "metadata": {},
   "outputs": [],
   "source": [
    "#for relative open masslib\n",
    "import sys\n",
    "sys.path.append('..')"
   ]
  },
  {
   "cell_type": "code",
   "execution_count": 3,
   "metadata": {
    "scrolled": true
   },
   "outputs": [],
   "source": [
    "import pandas as pd\n",
    "import numpy as np\n",
    "import matplotlib.pyplot as plt\n",
    "import os\n",
    "from scipy import spatial\n",
    "import networkx as nx\n",
    "import copy\n",
    "from pyvis.network import Network\n",
    "from nhsmasslib.mass import MassSpectrum\n",
    "from nhsmasslib.mass import VanKrevelen\n",
    "from nhsmasslib.mass import Tmds\n",
    "from nhsmasslib.mass import MassSpectrumList\n",
    "from nhsmasslib.graph import Metric, Vis"
   ]
  },
  {
   "cell_type": "code",
   "execution_count": 4,
   "metadata": {},
   "outputs": [],
   "source": [
    "spec = MassSpectrum().load('data/sample3.txt').assign(rel_error=0.25).drop_unassigned().calculate_mass()\n",
    "spec2 = MassSpectrum().load('data/sample4.txt', sep='\\t').assign(rel_error=0.5).drop_unassigned().calculate_mass()"
   ]
  },
  {
   "cell_type": "markdown",
   "metadata": {},
   "source": [
    "calculate graph metric for TMDS"
   ]
  },
  {
   "cell_type": "code",
   "execution_count": null,
   "metadata": {},
   "outputs": [],
   "source": [
    "table = Metric(spec).get_graph_table()\n",
    "table.sort_values(by='max_chain', ascending=False)"
   ]
  },
  {
   "cell_type": "markdown",
   "metadata": {},
   "source": [
    "calculate FDCEL distance metric"
   ]
  },
  {
   "cell_type": "code",
   "execution_count": null,
   "metadata": {},
   "outputs": [],
   "source": [
    "Metric().calc_fdcel(spec, spec2)"
   ]
  },
  {
   "cell_type": "markdown",
   "metadata": {},
   "source": [
    "default dif table"
   ]
  },
  {
   "cell_type": "code",
   "execution_count": null,
   "metadata": {},
   "outputs": [],
   "source": [
    "Vis().gen_diftable()"
   ]
  },
  {
   "cell_type": "markdown",
   "metadata": {},
   "source": [
    "generate visualization for graph\n",
    "open sample.html to watch\n",
    "it is take a lot of time to calculate"
   ]
  },
  {
   "cell_type": "code",
   "execution_count": null,
   "metadata": {},
   "outputs": [],
   "source": [
    "spec_graph = Vis().generate(spec)\n",
    "spec_graph.to_html('sample1.html')"
   ]
  },
  {
   "cell_type": "markdown",
   "metadata": {},
   "source": [
    "custon diftabe"
   ]
  },
  {
   "cell_type": "code",
   "execution_count": 5,
   "metadata": {},
   "outputs": [],
   "source": [
    "data = [ [1,2,1],\n",
    "        [1,0,2],\n",
    "        [0,2,1]]\n",
    "\n",
    "d = Vis().gen_diftable(count = data)"
   ]
  },
  {
   "cell_type": "markdown",
   "metadata": {},
   "source": [
    "gen visualizatiob with custom graph table"
   ]
  },
  {
   "cell_type": "code",
   "execution_count": 6,
   "metadata": {},
   "outputs": [],
   "source": [
    "spec_graph = Vis().generate(spec, d)\n",
    "spec_graph.to_html('sample2.html')"
   ]
  },
  {
   "cell_type": "markdown",
   "metadata": {},
   "source": [
    "Export graph to open in other programm (cytoscape, for example)"
   ]
  },
  {
   "cell_type": "code",
   "execution_count": 7,
   "metadata": {},
   "outputs": [],
   "source": [
    "nx.write_gml(spec_graph.G, 'network.gml')"
   ]
  },
  {
   "cell_type": "markdown",
   "metadata": {},
   "source": [
    "Find separate cluster in graph"
   ]
  },
  {
   "cell_type": "code",
   "execution_count": null,
   "metadata": {},
   "outputs": [],
   "source": [
    "gr = []\n",
    "for c in nx.connected_components(spec_graph.G):\n",
    "    gr.append(spec_graph.G.subgraph(c).copy())\n",
    "\n",
    "for g in gr:\n",
    "    print(len(list(g.nodes)))"
   ]
  },
  {
   "cell_type": "code",
   "execution_count": null,
   "metadata": {},
   "outputs": [],
   "source": [
    "mas = np.array(list(gr[0].nodes))\n",
    "\n",
    "s = copy.deepcopy(spec.calculate_mass().calculate_brutto().drop_unassigned())\n",
    "\n",
    "s.table = s.table[s.table['brutto'].isin(mas)]\n",
    "vk = VanKrevelen(s).draw_scatter()\n",
    "s.draw()"
   ]
  },
  {
   "cell_type": "code",
   "execution_count": null,
   "metadata": {},
   "outputs": [],
   "source": [
    "mas = np.array(list(gr[1].nodes))\n",
    "\n",
    "s = copy.deepcopy(spec.calculate_mass().calculate_brutto().drop_unassigned())\n",
    "\n",
    "s.table = s.table[s.table['brutto'].isin(mas)]\n",
    "vk = VanKrevelen(s).draw_scatter()\n",
    "s.draw()"
   ]
  }
 ],
 "metadata": {
  "kernelspec": {
   "display_name": "Python 3.8.8 ('base')",
   "language": "python",
   "name": "python3"
  },
  "language_info": {
   "codemirror_mode": {
    "name": "ipython",
    "version": 3
   },
   "file_extension": ".py",
   "mimetype": "text/x-python",
   "name": "python",
   "nbconvert_exporter": "python",
   "pygments_lexer": "ipython3",
   "version": "3.8.8"
  },
  "vscode": {
   "interpreter": {
    "hash": "7456f8c2ffaed130786514d94f2c51fd19c1c3ba9e4278dcccd00a001abcd749"
   }
  }
 },
 "nbformat": 4,
 "nbformat_minor": 4
}
