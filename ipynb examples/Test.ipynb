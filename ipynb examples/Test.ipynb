{
 "cells": [
  {
   "cell_type": "code",
   "execution_count": null,
   "metadata": {},
   "outputs": [],
   "source": [
    "#for relative open masslib\n",
    "import sys\n",
    "sys.path.append('..')\n"
   ]
  },
  {
   "cell_type": "markdown",
   "metadata": {},
   "source": [
    "### Usage for Arithmetic operations over assigned spectra"
   ]
  },
  {
   "cell_type": "code",
   "execution_count": null,
   "metadata": {},
   "outputs": [],
   "source": [
    "# imports\n",
    "import os\n",
    "\n",
    "from masslib.mass import MassSpectrum\n",
    "\n",
    "#\n",
    "masses = []\n",
    "mapper = {\"mw\": \"mass\", \"relativeAbundance\": \"intensity\"}\n",
    "for filename in sorted(os.listdir('../data/similarity/')):\n",
    "    masses.append(MassSpectrum().load(\n",
    "        f\"../data/similarity//{filename}\",\n",
    "        mapper=mapper,\n",
    "        sep=',',\n",
    "        ignore_columns=[\"peakNo\", \"errorPPM\", \"DBE\", \"class\", \"z\"]\n",
    "    ))\n",
    "    \n",
    "x, y, z = masses[:3]\n",
    "\n",
    "union = (x + y + z)\n",
    "print(len(union > 2))  # intersection of all three\n",
    "print(len(union > 1))  # number of bruttos which is presented at least 2 out of 3 spectra\n",
    "\n",
    "for i in [x, y, z]:\n",
    "    print(union.calculate_jaccard_needham_score(i))\n",
    "\n",
    "# deleting common for all 3 spectra\n",
    "x -= (union > 2)\n",
    "y -= (union > 2)\n",
    "z -= (union > 2)"
   ]
  },
  {
   "cell_type": "markdown",
   "metadata": {},
   "source": [
    "### Usage to plot similarity matrix"
   ]
  },
  {
   "cell_type": "code",
   "execution_count": null,
   "metadata": {},
   "outputs": [],
   "source": [
    "import os\n",
    "\n",
    "import matplotlib.pyplot as plt\n",
    "\n",
    "from masslib.mass import MassSpectrum, MassSpectrumList\n",
    "\n",
    "# load data\n",
    "masses = []\n",
    "mapper = {\"mw\": \"mass\", \"relativeAbundance\": \"intensity\", \"formula\":\"brutto\"}\n",
    "for filename in sorted(os.listdir(f\"../data/similarity/\"))[:5]:\n",
    "    masses.append(MassSpectrum().load(\n",
    "        f\"../data/similarity/{filename}\",\n",
    "        mapper=mapper,\n",
    "        sep=',',\n",
    "        ignore_columns=[\"peakNo\", \"errorPPM\", \"DBE\", \"class\", \"z\"]\n",
    "    ).assignment_from_brutto())  # It's important, that similarity can be calculated only by formulae\n",
    "\n",
    "# MassSpectrumList instance creating, \n",
    "collection = MassSpectrumList(masses, names=[\"1\", \"2\", \"3\", \"4\", \"5\"])\n",
    "\n",
    "# calculate and draw cosine similarity matrix\n",
    "plt.figure(figsize=(12, 10))\n",
    "\n",
    "collection.draw(collection.calculate_similarity(mode=\"common_correlation\"), title=\"cosine\")\n",
    "plt.show()\n",
    "\n",
    "# calculate and draw taminoto similarity matrix\n",
    "plt.figure(figsize=(12, 10))\n",
    "collection.draw(collection.calculate_similarity(mode=\"common_correlation\"), title=\"tanimoto\")\n",
    "plt.show()"
   ]
  }
 ],
 "metadata": {
  "kernelspec": {
   "display_name": "Python 3.8.8 ('base')",
   "language": "python",
   "name": "python3"
  },
  "language_info": {
   "codemirror_mode": {
    "name": "ipython",
    "version": 3
   },
   "file_extension": ".py",
   "mimetype": "text/x-python",
   "name": "python",
   "nbconvert_exporter": "python",
   "pygments_lexer": "ipython3",
   "version": "3.8.8"
  },
  "vscode": {
   "interpreter": {
    "hash": "7456f8c2ffaed130786514d94f2c51fd19c1c3ba9e4278dcccd00a001abcd749"
   }
  }
 },
 "nbformat": 4,
 "nbformat_minor": 4
}
