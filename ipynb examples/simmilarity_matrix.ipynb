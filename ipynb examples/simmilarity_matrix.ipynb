{
 "cells": [
  {
   "cell_type": "markdown",
   "metadata": {},
   "source": [
    "#### Usage to plot similarity matrix"
   ]
  },
  {
   "cell_type": "code",
   "execution_count": null,
   "metadata": {},
   "outputs": [],
   "source": [
    "#for relative open masslib\n",
    "import sys\n",
    "sys.path.append('..')"
   ]
  },
  {
   "cell_type": "code",
   "execution_count": null,
   "metadata": {
    "scrolled": true
   },
   "outputs": [],
   "source": [
    "import pandas as pd\n",
    "import numpy as np\n",
    "import matplotlib.pyplot as plt\n",
    "import os\n",
    "from masslib.mass import MassSpectrum\n",
    "from masslib.mass import VanKrevelen\n",
    "from masslib.mass import Tmds\n",
    "from masslib.mass import MassSpectrumList\n",
    "from masslib.brutto_generator import brutto_gen"
   ]
  },
  {
   "cell_type": "markdown",
   "metadata": {},
   "source": [
    "#### Load spectra"
   ]
  },
  {
   "cell_type": "code",
   "execution_count": null,
   "metadata": {},
   "outputs": [],
   "source": [
    "masses = []\n",
    "mapper = {\"mw\": \"mass\", \"relativeAbundance\": \"intensity\", \"formula\":\"brutto\"}\n",
    "for filename in sorted(os.listdir(f\"../data/similarity/\"))[:6]:\n",
    "    if filename[-3:] != 'csv':\n",
    "        continue\n",
    "    masses.append(MassSpectrum().load(\n",
    "        f\"../data/similarity/{filename}\",\n",
    "        mapper=mapper,\n",
    "        sep=',',\n",
    "        ignore_columns=[\"peakNo\", \"errorPPM\", \"DBE\", \"class\", \"z\"]\n",
    "    ).calculate_mass())  # It's important, that similarity can be calculated only by calculated mass"
   ]
  },
  {
   "cell_type": "markdown",
   "metadata": {},
   "source": [
    "#### Create MassSpectrumList instance"
   ]
  },
  {
   "cell_type": "code",
   "execution_count": null,
   "metadata": {},
   "outputs": [],
   "source": [
    "collection = MassSpectrumList(masses, names=[\"1\", \"2\", \"3\", \"4\", \"5\",\"6\"])"
   ]
  },
  {
   "cell_type": "markdown",
   "metadata": {},
   "source": [
    "#### Plot similarity matrix"
   ]
  },
  {
   "cell_type": "code",
   "execution_count": null,
   "metadata": {},
   "outputs": [],
   "source": [
    "collection.calculate_similarity()\n"
   ]
  }
 ],
 "metadata": {
  "kernelspec": {
   "display_name": "Python 3.8.8 ('base')",
   "language": "python",
   "name": "python3"
  },
  "language_info": {
   "codemirror_mode": {
    "name": "ipython",
    "version": 3
   },
   "file_extension": ".py",
   "mimetype": "text/x-python",
   "name": "python",
   "nbconvert_exporter": "python",
   "pygments_lexer": "ipython3",
   "version": "3.8.8"
  },
  "vscode": {
   "interpreter": {
    "hash": "7456f8c2ffaed130786514d94f2c51fd19c1c3ba9e4278dcccd00a001abcd749"
   }
  }
 },
 "nbformat": 4,
 "nbformat_minor": 4
}
