{
 "cells": [
  {
   "cell_type": "code",
   "execution_count": null,
   "metadata": {},
   "outputs": [],
   "source": [
    "#for relative open masslib\n",
    "import sys\n",
    "sys.path.append('..')"
   ]
  },
  {
   "cell_type": "code",
   "execution_count": null,
   "metadata": {
    "scrolled": true
   },
   "outputs": [],
   "source": [
    "import pandas as pd\n",
    "import numpy as np\n",
    "import matplotlib.pyplot as plt\n",
    "from masslib.mass import MassSpectrum\n",
    "from masslib.mass import VanKrevelen\n",
    "from masslib.mass import Tmds\n",
    "from masslib.brutto_generator import brutto_gen"
   ]
  },
  {
   "cell_type": "markdown",
   "metadata": {},
   "source": [
    "#### Load spectrum\n",
    "\n",
    "Assign with minimal error - 0.25 for more reliable results\n",
    "\n",
    "Show initial vk"
   ]
  },
  {
   "cell_type": "code",
   "execution_count": null,
   "metadata": {},
   "outputs": [],
   "source": [
    "spec = MassSpectrum().load('../data/test.txt', mapper={'mass':'mass','intensity':'intensity'}, sep=',', take_columns=['mass','intensity'])\n",
    "gdf = brutto_gen(elems={'C':(1,40),'H':(0,80), 'O':(0,40),'N':(0,2)})\n",
    "spec = spec.assign(generated_bruttos_table=gdf, rel_error=0.25)\n",
    "vk = VanKrevelen(spec.table).draw_scatter(nitrogen=True)\n",
    "vk = VanKrevelen(spec.table).squares()"
   ]
  },
  {
   "cell_type": "markdown",
   "metadata": {},
   "source": [
    "#### Caclculate Total mass difference statistic (TMDS)"
   ]
  },
  {
   "cell_type": "code",
   "execution_count": null,
   "metadata": {},
   "outputs": [],
   "source": [
    "tmds_spec = Tmds().calc(spec, p=0.2) #by varifiy p-value we can choose how much mass-diff we will take\n",
    "tmds_spec = tmds_spec.assign(gdf={'C':(-1,20),'H':(-4,40), 'O':(-1,20),'N':(0,1)})\n",
    "tmds_spec = tmds_spec.calculate_mass()\n",
    "tmds_spec.table"
   ]
  },
  {
   "cell_type": "code",
   "execution_count": null,
   "metadata": {},
   "outputs": [],
   "source": [
    "tmds_spec.draw()"
   ]
  },
  {
   "cell_type": "markdown",
   "metadata": {},
   "source": [
    "#### Assigne by TMDS. It is takes a lot of times"
   ]
  },
  {
   "cell_type": "code",
   "execution_count": null,
   "metadata": {},
   "outputs": [],
   "source": [
    "spec = spec.assign_by_tmds(tmds_spec)\n",
    "#show percent of process complete"
   ]
  },
  {
   "cell_type": "markdown",
   "metadata": {},
   "source": [
    "#### Look result"
   ]
  },
  {
   "cell_type": "code",
   "execution_count": null,
   "metadata": {},
   "outputs": [],
   "source": [
    "vk = VanKrevelen(spec.table).draw_scatter(nitrogen=True)\n",
    "vk = VanKrevelen(spec.table).squares()"
   ]
  },
  {
   "cell_type": "markdown",
   "metadata": {},
   "source": [
    "#### Without TMDS and rel_error 0.5 ppm"
   ]
  },
  {
   "cell_type": "code",
   "execution_count": null,
   "metadata": {},
   "outputs": [],
   "source": [
    "spec2 = MassSpectrum().load('../data/test.txt', mapper={'mass':'mass','intensity':'intensity'}, sep=',', take_columns=['mass','intensity'])\n",
    "gdf = brutto_gen(elems={'C':(1,40),'H':(0,80), 'O':(0,40),'N':(0,3)})\n",
    "spec2 = spec2.assign(generated_bruttos_table=gdf, rel_error=0.5)\n",
    "vk = VanKrevelen(spec2.table).draw_scatter(nitrogen=True)\n",
    "vk = VanKrevelen(spec2.table).squares()"
   ]
  },
  {
   "cell_type": "code",
   "execution_count": null,
   "metadata": {},
   "outputs": [],
   "source": []
  }
 ],
 "metadata": {
  "kernelspec": {
   "display_name": "Python 3.8.8 ('base')",
   "language": "python",
   "name": "python3"
  },
  "language_info": {
   "codemirror_mode": {
    "name": "ipython",
    "version": 3
   },
   "file_extension": ".py",
   "mimetype": "text/x-python",
   "name": "python",
   "nbconvert_exporter": "python",
   "pygments_lexer": "ipython3",
   "version": "3.8.8"
  },
  "vscode": {
   "interpreter": {
    "hash": "7456f8c2ffaed130786514d94f2c51fd19c1c3ba9e4278dcccd00a001abcd749"
   }
  }
 },
 "nbformat": 4,
 "nbformat_minor": 4
}
