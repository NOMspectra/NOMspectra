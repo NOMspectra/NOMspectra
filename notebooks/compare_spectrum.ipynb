{
 "cells": [
  {
   "cell_type": "markdown",
   "metadata": {},
   "source": [
    "# Compare two spectrum"
   ]
  },
  {
   "cell_type": "code",
   "execution_count": null,
   "metadata": {},
   "outputs": [],
   "source": [
    "import nomspectra.draw as draw\n",
    "from nomspectra.spectrum import Spectrum\n",
    "from nomspectra.spectra import SpectrumList\n",
    "import pandas as pd\n",
    "import numpy as np\n",
    "import matplotlib.pyplot as plt"
   ]
  },
  {
   "cell_type": "markdown",
   "metadata": {},
   "source": [
    "## Load and plot\n",
    "\n",
    "Load and assign spectrum. Than drop unassigned masses and normilize by sum of intensity"
   ]
  },
  {
   "cell_type": "code",
   "execution_count": null,
   "metadata": {},
   "outputs": [],
   "source": [
    "spec1 = Spectrum.read_csv(\"data/sample1.csv\",\n",
    "                            mapper = {\"mw\": \"mass\", \"relativeAbundance\": 'intensity'},\n",
    "                            sep=',',\n",
    "                            ignore_columns=[\"peakNo\", \"errorPPM\",'formula', \"DBE\", \"class\", \"z\"],\n",
    "                           )\n",
    "spec1 = spec1.assign(brutto_dict={'C':(4,41),'H':(4,81),'O':(0,26),'N':(0,4)})\n",
    "spec1 = spec1.drop_unassigned().normalize()\n",
    "\n",
    "spec2 = Spectrum.read_csv(\"data/sample2.txt\").assign(brutto_dict={'C':(4,41),'H':(4,81),'O':(0,26),'N':(0,4)})\n",
    "spec2 = spec2.drop_unassigned().normalize()"
   ]
  },
  {
   "cell_type": "markdown",
   "metadata": {},
   "source": [
    "Plot two spectra"
   ]
  },
  {
   "cell_type": "code",
   "execution_count": null,
   "metadata": {},
   "outputs": [],
   "source": [
    "fig, ax = plt.subplots(figsize=(4,4), dpi=75)\n",
    "draw.spectrum(spec2, color='red', alpha=0.5, ax=ax)\n",
    "draw.spectrum(spec1, color='blue', alpha=0.5, ax=ax)"
   ]
  },
  {
   "cell_type": "markdown",
   "metadata": {},
   "source": [
    "calculate metrics and Van Krevelen diagram"
   ]
  },
  {
   "cell_type": "code",
   "execution_count": null,
   "metadata": {},
   "outputs": [],
   "source": [
    "spec1 = spec1.calc_all_metrics()\n",
    "spec2 = spec2.calc_all_metrics()\n",
    "\n",
    "fig, ax = plt.subplots(figsize=(14,4),ncols=3, dpi=75)\n",
    "draw.vk(spec2, color='red', ax=ax[0], title='')\n",
    "draw.vk(spec1, color='blue', ax=ax[1], title='')\n",
    "draw.vk(spec2, color='red', ax=ax[2], title='')\n",
    "draw.vk(spec1, color='blue', ax=ax[2], title='')\n",
    "ax[0].set_title('spec2')\n",
    "ax[1].set_title('spec1')\n",
    "ax[2].set_title('spec2, spec1')"
   ]
  },
  {
   "cell_type": "markdown",
   "metadata": {},
   "source": [
    "## Boolean operations\n",
    "\n",
    "Calculate and draw sum of spectrum"
   ]
  },
  {
   "cell_type": "code",
   "execution_count": null,
   "metadata": {},
   "outputs": [],
   "source": [
    "spec3 = spec1 + spec2 #'spec1 | spec2' - same\n",
    "\n",
    "fig, ax = plt.subplots(figsize=(14,4),ncols=3, dpi=75)\n",
    "draw.vk(spec2, color='red', ax=ax[0], title='')\n",
    "draw.vk(spec1, color='blue', ax=ax[1], title='')\n",
    "draw.vk(spec3, color='green', ax=ax[2], title='')\n",
    "ax[0].set_title('spec2')\n",
    "ax[1].set_title('spec1')\n",
    "ax[2].set_title('spec2 + spec1')"
   ]
  },
  {
   "cell_type": "markdown",
   "metadata": {},
   "source": [
    "Calculate and draw substrate spec1 from spec2"
   ]
  },
  {
   "cell_type": "code",
   "execution_count": null,
   "metadata": {},
   "outputs": [],
   "source": [
    "spec3 = spec2 - spec1\n",
    "\n",
    "fig, ax = plt.subplots(figsize=(14,4),ncols=3, dpi=75)\n",
    "draw.vk(spec2, color='red', ax=ax[0], title='')\n",
    "draw.vk(spec1, color='blue', ax=ax[1], title='')\n",
    "draw.vk(spec3, color='green', ax=ax[2], title='')\n",
    "ax[0].set_title('spec2')\n",
    "ax[1].set_title('spec1')\n",
    "ax[2].set_title('spec2 - spec1')"
   ]
  },
  {
   "cell_type": "markdown",
   "metadata": {},
   "source": [
    "Also we can look for spec prepared by substraction by intensity"
   ]
  },
  {
   "cell_type": "code",
   "execution_count": null,
   "metadata": {},
   "outputs": [],
   "source": [
    "spec3 = spec2.intens_sub(spec1)\n",
    "\n",
    "fig, ax = plt.subplots(figsize=(14,4),ncols=3, dpi=75)\n",
    "draw.vk(spec2, color='red', ax=ax[0], title='')\n",
    "draw.vk(spec1, color='blue', ax=ax[1], title='')\n",
    "draw.vk(spec3, color='green', ax=ax[2], title='')\n",
    "ax[0].set_title('spec2')\n",
    "ax[1].set_title('spec1')\n",
    "ax[2].set_title('spec2 - spec1')"
   ]
  },
  {
   "cell_type": "markdown",
   "metadata": {},
   "source": [
    "Calculate and draw common of spec1 and spec2"
   ]
  },
  {
   "cell_type": "code",
   "execution_count": null,
   "metadata": {},
   "outputs": [],
   "source": [
    "spec3 = spec1 & spec2\n",
    "\n",
    "fig, ax = plt.subplots(figsize=(14,4),ncols=3, dpi=75)\n",
    "draw.vk(spec2, color='red', ax=ax[0], title='')\n",
    "draw.vk(spec1, color='blue', ax=ax[1], title='')\n",
    "draw.vk(spec3, color='green', ax=ax[2], title='')\n",
    "ax[0].set_title('spec2')\n",
    "ax[1].set_title('spec1')\n",
    "ax[2].set_title('spec2 & spec1')"
   ]
  },
  {
   "cell_type": "markdown",
   "metadata": {},
   "source": [
    "Calculate and draw symmetric difference of spec1 and spec2"
   ]
  },
  {
   "cell_type": "code",
   "execution_count": null,
   "metadata": {},
   "outputs": [],
   "source": [
    "spec3 = spec1 ^ spec2\n",
    "\n",
    "fig, ax = plt.subplots(figsize=(14,4),ncols=3, dpi=75)\n",
    "draw.vk(spec2, color='red', ax=ax[0], title='')\n",
    "draw.vk(spec1, color='blue', ax=ax[1], title='')\n",
    "draw.vk(spec3, color='green', ax=ax[2], title='')\n",
    "ax[0].set_title('spec2')\n",
    "ax[1].set_title('spec1')\n",
    "ax[2].set_title('spec2 ^ spec1')"
   ]
  },
  {
   "cell_type": "markdown",
   "metadata": {},
   "source": [
    "## Simmilarity\n",
    "\n",
    "Calculate simmilarity indexes. For now you can use common indexes - Cosine, Tanimoto and Jaccard"
   ]
  },
  {
   "cell_type": "code",
   "execution_count": null,
   "metadata": {},
   "outputs": [],
   "source": [
    "for index in ['cosine', 'tanimoto', 'jaccard']:\n",
    "    value = spec1.simmilarity(spec2, mode=index)\n",
    "    print(f'{index}: {round(value,3)} ')"
   ]
  },
  {
   "cell_type": "markdown",
   "metadata": {},
   "source": [
    "You can plot venn diagram for two ore three spectrum"
   ]
  },
  {
   "cell_type": "code",
   "execution_count": null,
   "metadata": {},
   "outputs": [],
   "source": [
    "draw.venn(spec1, spec2)"
   ]
  },
  {
   "cell_type": "markdown",
   "metadata": {},
   "source": [
    "## Calculate metrics\n",
    "\n",
    "Calculate molecular class zones and get density. For plot we can use SpectrumList class from nomspectra.spectra"
   ]
  },
  {
   "cell_type": "code",
   "execution_count": null,
   "metadata": {},
   "outputs": [],
   "source": [
    "specs = SpectrumList([spec1, spec2])\n",
    "specs.draw_mol_density()"
   ]
  },
  {
   "cell_type": "markdown",
   "metadata": {},
   "source": [
    "Calculate DBE vs nO"
   ]
  },
  {
   "cell_type": "code",
   "execution_count": null,
   "metadata": {},
   "outputs": [],
   "source": [
    "fig, ax = plt.subplots(figsize=(4,4), dpi=75)\n",
    "spec1.get_dbe_vs_o(olim=(5,17), ax=ax, color='blue')\n",
    "spec2.get_dbe_vs_o(olim=(5,17), ax=ax, color='red')"
   ]
  },
  {
   "cell_type": "markdown",
   "metadata": {},
   "source": [
    "Also we can compare metrics"
   ]
  },
  {
   "cell_type": "code",
   "execution_count": null,
   "metadata": {},
   "outputs": [],
   "source": [
    "specs.get_mol_metrics()"
   ]
  },
  {
   "cell_type": "markdown",
   "metadata": {},
   "source": [
    "And van krevelen square density"
   ]
  },
  {
   "cell_type": "code",
   "execution_count": null,
   "metadata": {},
   "outputs": [],
   "source": [
    "fig, ax = plt.subplots(figsize=(11,4), ncols=2, dpi=75)\n",
    "spec1.get_squares_vk(ax=ax[0], draw=True)\n",
    "spec2.get_squares_vk(ax=ax[1], draw=True)\n",
    "ax[0].set_title('spec1')\n",
    "ax[1].set_title('spec2')\n",
    "specs.get_square_vk()"
   ]
  }
 ],
 "metadata": {
  "kernelspec": {
   "display_name": "Python 3 (ipykernel)",
   "language": "python",
   "name": "python3"
  },
  "language_info": {
   "codemirror_mode": {
    "name": "ipython",
    "version": 3
   },
   "file_extension": ".py",
   "mimetype": "text/x-python",
   "name": "python",
   "nbconvert_exporter": "python",
   "pygments_lexer": "ipython3",
   "version": "3.8.13"
  },
  "vscode": {
   "interpreter": {
    "hash": "7456f8c2ffaed130786514d94f2c51fd19c1c3ba9e4278dcccd00a001abcd749"
   }
  }
 },
 "nbformat": 4,
 "nbformat_minor": 4
}
