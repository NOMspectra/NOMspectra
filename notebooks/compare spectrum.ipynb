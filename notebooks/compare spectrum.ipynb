{
 "cells": [
  {
   "cell_type": "code",
   "execution_count": null,
   "metadata": {
    "scrolled": true
   },
   "outputs": [],
   "source": [
    "import sys\n",
    "sys.path.append('..')\n",
    "import warnings\n",
    "warnings.filterwarnings('ignore')"
   ]
  },
  {
   "cell_type": "code",
   "execution_count": null,
   "metadata": {},
   "outputs": [],
   "source": [
    "import pandas as pd\n",
    "import numpy as np\n",
    "import matplotlib.pyplot as plt\n",
    "from nhsmasslib.mass import MassSpectrum\n",
    "from nhsmasslib.mass import VanKrevelen\n",
    "from nhsmasslib.brutto import brutto_gen"
   ]
  },
  {
   "cell_type": "markdown",
   "metadata": {},
   "source": [
    "#### Generate brutto formulas which we expect in samples"
   ]
  },
  {
   "cell_type": "code",
   "execution_count": null,
   "metadata": {},
   "outputs": [],
   "source": [
    "gdf = brutto_gen(elems={'C':(1,40),'H':(0,80), 'O':(0,40),'N':(0,3),\"S\":(0,1)})"
   ]
  },
  {
   "cell_type": "markdown",
   "metadata": {},
   "source": [
    "#### Loading and assign brutto formules"
   ]
  },
  {
   "cell_type": "code",
   "execution_count": null,
   "metadata": {},
   "outputs": [],
   "source": [
    "spec2 = MassSpectrum().load(filename=\"data/sample2.csv\",\n",
    "                            mapper={'m/z':'mass', \"I\":'intensity'},\n",
    "                            take_columns=['mass','intensity'],\n",
    "                            sep=',',\n",
    "                            )\n",
    "spec2 = spec2.assign(generated_bruttos_table=gdf, rel_error=0.5)\n",
    "spec2.draw()\n",
    "fig, ax = plt.subplots(figsize=(4, 4), dpi=75)\n",
    "vk = VanKrevelen(spec2.table)\n",
    "vk.draw_scatter(ax=ax)"
   ]
  },
  {
   "cell_type": "markdown",
   "metadata": {},
   "source": [
    "#### Load assigned mass-list"
   ]
  },
  {
   "cell_type": "code",
   "execution_count": null,
   "metadata": {},
   "outputs": [],
   "source": [
    "mapper = {\"mw\": \"mass\", \"relativeAbundance\": 'intensity'}\n",
    "spec1 = MassSpectrum().load(\"data/sample1.csv\",\n",
    "                            mapper = mapper,\n",
    "                            sep=',',\n",
    "                            ignore_columns=[\"peakNo\", \"errorPPM\", \"DBE\", \"class\", \"z\"]\n",
    "                           )\n",
    "spec1.draw()\n",
    "vk = VanKrevelen(spec1.table).draw_scatter()"
   ]
  },
  {
   "cell_type": "markdown",
   "metadata": {},
   "source": [
    "#### Search for common formulas"
   ]
  },
  {
   "cell_type": "code",
   "execution_count": null,
   "metadata": {},
   "outputs": [],
   "source": [
    "common = spec1 & spec2\n",
    "fig, ax = plt.subplots(figsize=(4, 4), dpi=75)\n",
    "vk = VanKrevelen(common.table)\n",
    "vk.draw_scatter(ax=ax)"
   ]
  },
  {
   "cell_type": "markdown",
   "metadata": {},
   "source": [
    "#### Search for the symmetric difference"
   ]
  },
  {
   "cell_type": "code",
   "execution_count": null,
   "metadata": {},
   "outputs": [],
   "source": [
    "common = spec1 ^ spec2\n",
    "fig, ax = plt.subplots(figsize=(4, 4), dpi=75)\n",
    "vk = VanKrevelen(common.table)\n",
    "vk.draw_scatter(ax=ax)"
   ]
  },
  {
   "cell_type": "markdown",
   "metadata": {},
   "source": [
    "#### Calculate simmetric indexes"
   ]
  },
  {
   "cell_type": "code",
   "execution_count": null,
   "metadata": {},
   "outputs": [],
   "source": [
    "for index in ['cosine', 'tanimoto', 'jaccard']:\n",
    "    value = spec1.calculate_simmilarity(spec2, mode=index)\n",
    "    print(f'{index}: {round(value,3)} ')"
   ]
  }
 ],
 "metadata": {
  "kernelspec": {
   "display_name": "Python 3.8.8 ('base')",
   "language": "python",
   "name": "python3"
  },
  "language_info": {
   "codemirror_mode": {
    "name": "ipython",
    "version": 3
   },
   "file_extension": ".py",
   "mimetype": "text/x-python",
   "name": "python",
   "nbconvert_exporter": "python",
   "pygments_lexer": "ipython3",
   "version": "3.8.8"
  },
  "vscode": {
   "interpreter": {
    "hash": "7456f8c2ffaed130786514d94f2c51fd19c1c3ba9e4278dcccd00a001abcd749"
   }
  }
 },
 "nbformat": 4,
 "nbformat_minor": 4
}
