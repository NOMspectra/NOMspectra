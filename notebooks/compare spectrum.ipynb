{
 "cells": [
  {
   "cell_type": "code",
   "execution_count": null,
   "metadata": {
    "scrolled": true
   },
   "outputs": [],
   "source": [
    "import sys\n",
    "sys.path.append('..')\n",
    "import warnings\n",
    "warnings.filterwarnings('ignore')"
   ]
  },
  {
   "cell_type": "code",
   "execution_count": null,
   "metadata": {},
   "outputs": [],
   "source": [
    "import pandas as pd\n",
    "import numpy as np\n",
    "import matplotlib.pyplot as plt\n",
    "from nhsmasslib.mass import MassSpectrum\n",
    "from nhsmasslib.mass import VanKrevelen\n",
    "from nhsmasslib.brutto import brutto_gen"
   ]
  },
  {
   "cell_type": "markdown",
   "metadata": {},
   "source": [
    "#### Generate brutto formulas which we expect in samples"
   ]
  },
  {
   "cell_type": "code",
   "execution_count": null,
   "metadata": {},
   "outputs": [],
   "source": [
    "gdf = brutto_gen(elems={'C':(1,40),'H':(0,80), 'O':(0,40),'N':(0,3),\"S\":(0,1)})"
   ]
  },
  {
   "cell_type": "markdown",
   "metadata": {},
   "source": [
    "#### Loading and assign brutto formules"
   ]
  },
  {
   "cell_type": "code",
   "execution_count": null,
   "metadata": {},
   "outputs": [],
   "source": [
    "spec2 = MassSpectrum().load(filename=\"data/sample2.csv\",\n",
    "                            mapper={'m/z':'mass', \"I\":'intensity'},\n",
    "                            take_columns=['mass','intensity'],\n",
    "                            sep=',',\n",
    "                            )\n",
    "spec2 = spec2.assign(generated_bruttos_table=gdf, rel_error=0.5)\n",
    "spec2.draw()\n",
    "fig, ax = plt.subplots(figsize=(4, 4), dpi=75)\n",
    "vk = VanKrevelen(spec2.table)\n",
    "vk.draw_scatter(ax=ax)"
   ]
  },
  {
   "cell_type": "markdown",
   "metadata": {},
   "source": [
    "#### Load assigned mass-list"
   ]
  },
  {
   "cell_type": "code",
   "execution_count": null,
   "metadata": {},
   "outputs": [],
   "source": [
    "mapper = {\"mw\": \"mass\", \"relativeAbundance\": 'intensity'}\n",
    "spec1 = MassSpectrum().load(\"data/sample1.csv\",\n",
    "                            mapper = mapper,\n",
    "                            sep=',',\n",
    "                            ignore_columns=[\"peakNo\", \"errorPPM\", \"DBE\", \"class\", \"z\"]\n",
    "                           )\n",
    "spec1.draw()\n",
    "vk = VanKrevelen(spec1.table).draw_scatter()"
   ]
  },
  {
   "cell_type": "markdown",
   "metadata": {},
   "source": [
    "#### Search for common formulas"
   ]
  },
  {
   "cell_type": "code",
   "execution_count": null,
   "metadata": {},
   "outputs": [],
   "source": [
    "common = spec1 & spec2\n",
    "fig, ax = plt.subplots(figsize=(4, 4), dpi=75)\n",
    "vk = VanKrevelen(common.table)\n",
    "vk.draw_scatter(ax=ax)"
   ]
  },
  {
   "cell_type": "markdown",
   "metadata": {},
   "source": [
    "#### Search for the symmetric difference"
   ]
  },
  {
   "cell_type": "code",
   "execution_count": null,
   "metadata": {},
   "outputs": [],
   "source": [
    "common = spec1 ^ spec2\n",
    "fig, ax = plt.subplots(figsize=(4, 4), dpi=75)\n",
    "vk = VanKrevelen(common.table)\n",
    "vk.draw_scatter(ax=ax)"
   ]
  },
  {
   "cell_type": "markdown",
   "metadata": {},
   "source": [
    "#### Calculate simmetric indexes"
   ]
  },
  {
   "cell_type": "code",
   "execution_count": null,
   "metadata": {},
   "outputs": [],
   "source": [
    "for index in ['cosine', 'tanimoto', 'jaccard']:\n",
    "    value = spec1.calculate_simmilarity(spec2, mode=index)\n",
    "    print(f'{index}: {round(value,3)} ')"
   ]
  },
  {
   "cell_type": "markdown",
   "metadata": {},
   "source": [
    "Calculate DBE vs nO"
   ]
  },
  {
   "cell_type": "code",
   "execution_count": null,
   "metadata": {},
   "outputs": [],
   "source": [
    "fig, ax = plt.subplots(figsize=(4,4), dpi=75)\n",
    "\n",
    "spec1.calculate_DBEvsO(ax=ax, olim=(7,19))\n",
    "spec2.calculate_DBEvsO(ax=ax, olim=(7,19))"
   ]
  },
  {
   "cell_type": "markdown",
   "metadata": {},
   "source": [
    "#### Also we can look for spec prepared by substraction by intensity and how its look"
   ]
  },
  {
   "cell_type": "code",
   "execution_count": null,
   "metadata": {},
   "outputs": [],
   "source": [
    "fig, ax = plt.subplots(figsize=(4,4), dpi=75)\n",
    "\n",
    "spec1 = spec1.normalize()\n",
    "spec2 = spec2.normalize()\n",
    "\n",
    "sub1 = spec1.intens_sub(spec2)\n",
    "sub2 = spec2.intens_sub(spec1)\n",
    "\n",
    "sub1.calculate_DBEvsO(ax=ax, olim=(7,19))\n",
    "sub2.calculate_DBEvsO(ax=ax, olim=(7,19))"
   ]
  },
  {
   "cell_type": "markdown",
   "metadata": {},
   "source": [
    "it is rude, but we can consider that spec2 is more saturated."
   ]
  },
  {
   "cell_type": "markdown",
   "metadata": {},
   "source": [
    "#### Calculate molecular class zones and get density"
   ]
  },
  {
   "cell_type": "code",
   "execution_count": null,
   "metadata": {},
   "outputs": [],
   "source": [
    "spec1_dens = spec1.get_mol_class_density()\n",
    "spec2_dens = spec2.get_mol_class_density()\n",
    "d = [spec1_dens, spec2_dens]"
   ]
  },
  {
   "cell_type": "code",
   "execution_count": null,
   "metadata": {},
   "outputs": [],
   "source": [
    "fig, ax = plt.subplots(figsize=(4,4), dpi=75)\n",
    "\n",
    "labels = ['spec1', 'spec2']\n",
    "\n",
    "width=0.35\n",
    "\n",
    "bot = np.array([0 for i in d])\n",
    "for key in d[0].keys():\n",
    "    val = [i[key] for i in d]\n",
    "    ax.bar(labels, val, width, label=key, bottom=bot)\n",
    "    bot = bot + np.array(val)\n",
    "\n",
    "ax.legend(loc='center left', bbox_to_anchor=(1, 0.5))"
   ]
  },
  {
   "cell_type": "markdown",
   "metadata": {},
   "source": [
    "#### Calc all"
   ]
  },
  {
   "cell_type": "code",
   "execution_count": null,
   "metadata": {},
   "outputs": [],
   "source": [
    "spec1 = spec1.calculate_all()\n",
    "spec2 = spec2.calculate_all()\n",
    "spec1.table.info()"
   ]
  },
  {
   "cell_type": "markdown",
   "metadata": {},
   "source": [
    "#### Plot DBE-O/C vs NOSC"
   ]
  },
  {
   "cell_type": "code",
   "execution_count": null,
   "metadata": {},
   "outputs": [],
   "source": [
    "fig, ax = plt.subplots(figsize=(4,4), dpi=100)\n",
    "\n",
    "spec1.draw_scatter(x='NOSC', y='DBE-OC',ax=ax, color='blue', alpha=0.2)\n",
    "spec2.draw_scatter(x='NOSC', y='DBE-OC',ax=ax, color='red', alpha=0.1)\n",
    "ax.set_xlim(-1,1)\n",
    "ax.set_ylim(-0.5,0.5)\n"
   ]
  },
  {
   "cell_type": "code",
   "execution_count": null,
   "metadata": {},
   "outputs": [],
   "source": [
    "fig, ax = plt.subplots(figsize=(4,4), dpi=100)\n",
    "\n",
    "spec1.draw_density('NOSC', color='blue', ax=ax)\n",
    "spec2.draw_density('NOSC', color='red', ax=ax)\n"
   ]
  }
 ],
 "metadata": {
  "kernelspec": {
   "display_name": "Python 3.8.8 ('base')",
   "language": "python",
   "name": "python3"
  },
  "language_info": {
   "codemirror_mode": {
    "name": "ipython",
    "version": 3
   },
   "file_extension": ".py",
   "mimetype": "text/x-python",
   "name": "python",
   "nbconvert_exporter": "python",
   "pygments_lexer": "ipython3",
   "version": "3.8.8"
  },
  "vscode": {
   "interpreter": {
    "hash": "7456f8c2ffaed130786514d94f2c51fd19c1c3ba9e4278dcccd00a001abcd749"
   }
  }
 },
 "nbformat": 4,
 "nbformat_minor": 4
}
