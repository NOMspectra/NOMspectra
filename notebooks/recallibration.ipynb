{
 "cells": [
  {
   "cell_type": "markdown",
   "metadata": {},
   "source": [
    "# Recallibration"
   ]
  },
  {
   "cell_type": "code",
   "execution_count": null,
   "metadata": {
    "scrolled": true
   },
   "outputs": [],
   "source": [
    "from natorgms.spectrum import Spectrum\n",
    "from natorgms.recal import ErrorTable, recallibrate\n",
    "import natorgms.draw as draw\n",
    "import pandas as pd\n",
    "import matplotlib.pyplot as plt\n"
   ]
  },
  {
   "cell_type": "markdown",
   "metadata": {},
   "source": [
    "## Load spectrum and remove noise"
   ]
  },
  {
   "cell_type": "code",
   "execution_count": null,
   "metadata": {},
   "outputs": [],
   "source": [
    "spec = Spectrum.read_csv(filename=\"data/recallibrate.txt\",\n",
    "                            mapper={'m/z':'mass', 'Intensity':'intensity'},\n",
    "                            take_columns=['mass','intensity'],\n",
    "                            sep='\\t'\n",
    "                            )\n",
    "draw.spectrum(spec)\n",
    "draw.spectrum(spec, ylim=(0,500), title='zoom in')\n"
   ]
  },
  {
   "cell_type": "markdown",
   "metadata": {},
   "source": [
    "It can be seen that there is a lot of noise in the spectrum at an intensity level of 50-100. You can remove it using the noise_filter method with different settings - automatically with default settings, automatic with force control, by intensity and by the signal quartel that we want to drop."
   ]
  },
  {
   "cell_type": "code",
   "execution_count": null,
   "metadata": {},
   "outputs": [],
   "source": [
    "spec = spec.noise_filter(intensity=50)\n",
    "draw.spectrum(spec)"
   ]
  },
  {
   "cell_type": "markdown",
   "metadata": {},
   "source": [
    "Try to assign witout recallibration"
   ]
  },
  {
   "cell_type": "code",
   "execution_count": null,
   "metadata": {},
   "outputs": [],
   "source": [
    "spec = spec.assign()\n",
    "draw.vk(spec)"
   ]
  },
  {
   "cell_type": "markdown",
   "metadata": {},
   "source": [
    "It is look bad and we should recallibrate spectrum before assign"
   ]
  },
  {
   "cell_type": "markdown",
   "metadata": {},
   "source": [
    "## Recallibrate by etalon sample\n",
    "\n",
    "We can use extarnal etalon spectrum or calculated standart"
   ]
  },
  {
   "cell_type": "code",
   "execution_count": null,
   "metadata": {},
   "outputs": [],
   "source": [
    "spec = Spectrum.read_csv(filename=\"data/recallibrate.txt\",\n",
    "                            mapper={'m/z':'mass', 'Intensity':'intensity'},\n",
    "                            take_columns=['mass','intensity'],\n",
    "                            sep='\\t',\n",
    "                            intens_min=50\n",
    "                            ).noise_filter(intensity=50)\n",
    "\n",
    "spec = spec.assign()\n",
    "spec = recallibrate(spec, how='data/etalon.txt')\n",
    "spec = spec.assign()\n",
    "draw.vk(spec)"
   ]
  },
  {
   "cell_type": "markdown",
   "metadata": {},
   "source": [
    "It is looking better"
   ]
  },
  {
   "cell_type": "markdown",
   "metadata": {},
   "source": [
    "## Self-recallibrate by assign error"
   ]
  },
  {
   "cell_type": "code",
   "execution_count": null,
   "metadata": {},
   "outputs": [],
   "source": [
    "spec = Spectrum.read_csv(filename=\"data/recallibrate.txt\",\n",
    "                            mapper={'m/z':'mass', 'Intensity':'intensity'},\n",
    "                            take_columns=['mass','intensity'],\n",
    "                            sep='\\t'\n",
    "                            ).noise_filter(intensity=50)\n",
    "                            \n",
    "spec = recallibrate(spec)\n",
    "spec = spec.assign()\n",
    "draw.vk(spec)"
   ]
  },
  {
   "cell_type": "markdown",
   "metadata": {},
   "source": [
    "It is also good"
   ]
  },
  {
   "cell_type": "markdown",
   "metadata": {},
   "source": [
    "## Recallibrate by mass difference map\n",
    "\n",
    "It is base on calculation difference in mass bitween all signals. Usually, the occurring differences are discrete due to frequently occurring fragments, eg CH2. If the average mass of a given fragment differs, then the spectrum can be recalibrated on this basis. Before apply spectrum must be assigned\n",
    "\n",
    "Read more in the article: Smirnov, K. S., Forcisi, S., Moritz, F., Lucio, M., & Schmitt-Kopplin, P. (2019). Mass difference maps and their application for the recalibration of mass spectrometric data in nontargeted metabolomics. Analytical chemistry, 91(5), 3350-3358."
   ]
  },
  {
   "cell_type": "code",
   "execution_count": null,
   "metadata": {},
   "outputs": [],
   "source": [
    "spec = Spectrum.read_csv(filename=\"data/recallibrate.txt\",\n",
    "                            mapper={'m/z':'mass', 'Intensity':'intensity'},\n",
    "                            take_columns=['mass','intensity'],\n",
    "                            sep='\\t'\n",
    "                            ).noise_filter(intensity=50)\n",
    "spec = spec.assign()\n",
    "spec = recallibrate(spec, how='mdm')\n",
    "spec = spec.assign()\n",
    "draw.vk(spec)"
   ]
  },
  {
   "cell_type": "markdown",
   "metadata": {},
   "source": [
    "## Manual recallibrate\n",
    "\n",
    "Set error table or load it from file"
   ]
  },
  {
   "cell_type": "code",
   "execution_count": null,
   "metadata": {},
   "outputs": [],
   "source": [
    "data = [[170, -0.4],\n",
    "        [210, 1.2],\n",
    "        [380, 1.5],\n",
    "        [550, 2.1]]\n",
    "df = pd.DataFrame(data, columns=['mass','ppm'])\n",
    "\n",
    "err = ErrorTable(df).extrapolate() #load and extraoplate data for all diapasone\n",
    "err.show_error()\n",
    "\n",
    "spec = Spectrum.read_csv(filename=\"data/recallibrate.txt\",\n",
    "                            mapper={'m/z':'mass', 'Intensity':'intensity'},\n",
    "                            take_columns=['mass','intensity'],\n",
    "                            sep='\\t',\n",
    "                            ).noise_filter(intensity=50)\n",
    "\n",
    "spec = recallibrate(spec, err)\n",
    "spec = spec.assign()\n",
    "draw.vk(spec)"
   ]
  }
 ],
 "metadata": {
  "kernelspec": {
   "display_name": "Python 3 (ipykernel)",
   "language": "python",
   "name": "python3"
  },
  "language_info": {
   "codemirror_mode": {
    "name": "ipython",
    "version": 3
   },
   "file_extension": ".py",
   "mimetype": "text/x-python",
   "name": "python",
   "nbconvert_exporter": "python",
   "pygments_lexer": "ipython3",
   "version": "3.8.13"
  },
  "vscode": {
   "interpreter": {
    "hash": "7456f8c2ffaed130786514d94f2c51fd19c1c3ba9e4278dcccd00a001abcd749"
   }
  }
 },
 "nbformat": 4,
 "nbformat_minor": 4
}
