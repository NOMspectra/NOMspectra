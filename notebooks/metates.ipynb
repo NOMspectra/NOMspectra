{
 "cells": [
  {
   "cell_type": "code",
   "execution_count": null,
   "metadata": {
    "scrolled": true
   },
   "outputs": [],
   "source": [
    "import sys\n",
    "sys.path.append('..')\n",
    "import warnings\n",
    "warnings.filterwarnings('ignore')"
   ]
  },
  {
   "cell_type": "code",
   "execution_count": null,
   "metadata": {},
   "outputs": [],
   "source": [
    "import pandas as pd\n",
    "import numpy as np\n",
    "import matplotlib.pyplot as plt\n",
    "import nhsmasslib.draw as draw\n",
    "from nhsmasslib.mass import Spectrum\n",
    "from nhsmasslib.brutto import brutto_gen"
   ]
  },
  {
   "cell_type": "markdown",
   "metadata": {},
   "source": [
    "#### Loading and assign brutto formules"
   ]
  },
  {
   "cell_type": "code",
   "execution_count": null,
   "metadata": {},
   "outputs": [],
   "source": [
    "spec = Spectrum().load(filename=\"data/sample2.csv\",\n",
    "                            mapper={'m/z':'mass', \"I\":'intensity'},\n",
    "                            take_columns=['mass','intensity'],\n",
    "                            sep=',',\n",
    "                            )\n",
    "spec = spec.assign()\n",
    "draw.spectrum(spec)\n",
    "draw.vk(spec)"
   ]
  },
  {
   "cell_type": "code",
   "execution_count": null,
   "metadata": {},
   "outputs": [],
   "source": [
    "print(spec.metadata)"
   ]
  },
  {
   "cell_type": "code",
   "execution_count": null,
   "metadata": {},
   "outputs": [],
   "source": [
    "spec = spec.calc_mass()\n",
    "print(spec.metadata)\n",
    "spec = spec.calc_error()\n",
    "print(spec.metadata)\n",
    "spec = spec.dbe()\n",
    "print(spec.metadata)\n",
    "spec = spec.dbe_o()\n",
    "print(spec.metadata)\n",
    "spec = spec.ai()\n",
    "print(spec.metadata)\n",
    "spec = spec.dbe_oc()\n",
    "print(spec.metadata)\n",
    "spec = spec.dbe_ai()\n",
    "print(spec.metadata)\n",
    "spec = spec.mol_class()\n",
    "print(spec.metadata)\n",
    "spec = spec.hc_oc()\n",
    "print(spec.metadata)\n",
    "spec = spec.cai()\n",
    "print(spec.metadata)\n",
    "spec = spec.cram()\n",
    "print(spec.metadata)\n",
    "spec = spec.nosc()\n",
    "print(spec.metadata)\n",
    "spec = spec.brutto()\n",
    "print(spec.metadata)\n",
    "spec = spec.kendrick()\n",
    "print(spec.metadata)\n",
    "spec = spec.recallibrate()\n",
    "print(spec.metadata)\n",
    "spec = spec.assign_by_tmds(max_num=10)\n",
    "print(spec.metadata)"
   ]
  },
  {
   "cell_type": "code",
   "execution_count": null,
   "metadata": {},
   "outputs": [],
   "source": [
    "print(spec.metadata)"
   ]
  },
  {
   "cell_type": "code",
   "execution_count": null,
   "metadata": {},
   "outputs": [],
   "source": [
    "spec = spec.calculate_all()\n",
    "print(spec.metadata)"
   ]
  },
  {
   "cell_type": "code",
   "execution_count": null,
   "metadata": {},
   "outputs": [],
   "source": []
  }
 ],
 "metadata": {
  "kernelspec": {
   "display_name": "Python 3.8.8 ('base')",
   "language": "python",
   "name": "python3"
  },
  "language_info": {
   "codemirror_mode": {
    "name": "ipython",
    "version": 3
   },
   "file_extension": ".py",
   "mimetype": "text/x-python",
   "name": "python",
   "nbconvert_exporter": "python",
   "pygments_lexer": "ipython3",
   "version": "3.8.13"
  },
  "vscode": {
   "interpreter": {
    "hash": "7456f8c2ffaed130786514d94f2c51fd19c1c3ba9e4278dcccd00a001abcd749"
   }
  }
 },
 "nbformat": 4,
 "nbformat_minor": 4
}
