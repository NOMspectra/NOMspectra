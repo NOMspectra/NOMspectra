{
 "cells": [
  {
   "cell_type": "markdown",
   "metadata": {},
   "source": [
    "#### Usage to plot similarity matrix"
   ]
  },
  {
   "cell_type": "code",
   "execution_count": 1,
   "metadata": {},
   "outputs": [],
   "source": [
    "#for relative open masslib\n",
    "import sys\n",
    "sys.path.append('..')\n",
    "import warnings\n",
    "warnings.filterwarnings('ignore')"
   ]
  },
  {
   "cell_type": "code",
   "execution_count": 2,
   "metadata": {
    "scrolled": true
   },
   "outputs": [],
   "source": [
    "import pandas as pd\n",
    "import matplotlib.pyplot as plt\n",
    "import os\n",
    "from nhsmass.spectrum import Spectrum, Tmds, SpectrumList\n",
    "import nhsmass.draw as draw"
   ]
  },
  {
   "cell_type": "markdown",
   "metadata": {},
   "source": [
    "#### Load spectra"
   ]
  },
  {
   "cell_type": "code",
   "execution_count": 3,
   "metadata": {},
   "outputs": [],
   "source": [
    "masses = []\n",
    "names = []\n",
    "for filename in sorted(os.listdir(\"data/similarity/\")):\n",
    "    if filename[-3:] != 'csv':\n",
    "        continue\n",
    "    names.append(filename[:-4])\n",
    "    masses.append(Spectrum().read_csv(f\"data/similarity/{filename}\", assign_mark=True, metadata={'name':filename}))"
   ]
  },
  {
   "cell_type": "markdown",
   "metadata": {},
   "source": [
    "#### Create MassSpectrumList instance"
   ]
  },
  {
   "cell_type": "code",
   "execution_count": 4,
   "metadata": {},
   "outputs": [],
   "source": [
    "collection = SpectrumList(masses)"
   ]
  },
  {
   "cell_type": "markdown",
   "metadata": {},
   "source": [
    "#### Calc and Plot similarity matrix"
   ]
  },
  {
   "cell_type": "code",
   "execution_count": null,
   "metadata": {},
   "outputs": [],
   "source": [
    "collection.get_simmilarity()\n"
   ]
  },
  {
   "cell_type": "code",
   "execution_count": null,
   "metadata": {},
   "outputs": [],
   "source": [
    "collection.draw_simmilarity()"
   ]
  },
  {
   "cell_type": "markdown",
   "metadata": {},
   "source": [
    "#### Batch processing\n"
   ]
  },
  {
   "cell_type": "code",
   "execution_count": null,
   "metadata": {},
   "outputs": [],
   "source": [
    "squares = pd.DataFrame()\n",
    "\n",
    "for i, spec in enumerate(collection):\n",
    "\n",
    "    spec = spec.recallibrate(how='mdm')\n",
    "    spec = spec.assign(sign='0')\n",
    "    try:\n",
    "        spec = spec.assign_by_tmds(max_num=100)\n",
    "    except:\n",
    "        pass\n",
    "\n",
    "    draw.spectrum(spec)\n",
    "    \n",
    "    collection[i] = spec\n",
    "\n",
    "    draw.vk(spec)\n",
    "    \n",
    "    square = spec.get_squares_vk()\n",
    "    squares[collection[i].metadata['name']] = square['value']\n",
    "\n",
    "squares.index = [i for i in range(1,21)]\n",
    "print(squares)"
   ]
  },
  {
   "cell_type": "markdown",
   "metadata": {},
   "source": [
    "#### We can also calculate TMDS-spectrum and look simmmilarity of its"
   ]
  },
  {
   "cell_type": "code",
   "execution_count": null,
   "metadata": {},
   "outputs": [],
   "source": [
    "tmd = SpectrumList()\n",
    "\n",
    "for i, spec in enumerate(collection):\n",
    "    tmds = Tmds(spec=spec).calc(p=0.2, C13_filter = True) #by varifiy p-value we can choose how much mass-diff we will take\n",
    "    tmds = tmds.assign(brutto_dict={'C':(-1,20),'H':(-4,40), 'O':(-1,20),'N':(0,1)})\n",
    "    tmds = tmds.calc_mass()\n",
    "    tmd.append(tmds)\n",
    "\n",
    "tmd.draw_simmilarity()  "
   ]
  },
  {
   "cell_type": "code",
   "execution_count": null,
   "metadata": {},
   "outputs": [],
   "source": []
  }
 ],
 "metadata": {
  "kernelspec": {
   "display_name": "Python 3.8.8 ('base')",
   "language": "python",
   "name": "python3"
  },
  "language_info": {
   "codemirror_mode": {
    "name": "ipython",
    "version": 3
   },
   "file_extension": ".py",
   "mimetype": "text/x-python",
   "name": "python",
   "nbconvert_exporter": "python",
   "pygments_lexer": "ipython3",
   "version": "3.8.13"
  },
  "vscode": {
   "interpreter": {
    "hash": "7456f8c2ffaed130786514d94f2c51fd19c1c3ba9e4278dcccd00a001abcd749"
   }
  }
 },
 "nbformat": 4,
 "nbformat_minor": 4
}
