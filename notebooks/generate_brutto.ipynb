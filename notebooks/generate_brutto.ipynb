{
 "cells": [
  {
   "cell_type": "code",
   "execution_count": null,
   "metadata": {
    "scrolled": true
   },
   "outputs": [],
   "source": [
    "import sys\n",
    "sys.path.append('..')\n",
    "import warnings\n",
    "warnings.filterwarnings('ignore')\n",
    "\n",
    "import pandas as pd\n",
    "import numpy as np\n",
    "import matplotlib.pyplot as plt\n",
    "from nhsmasslib.mass import MassSpectrum\n",
    "from nhsmasslib.mass import VanKrevelen\n",
    "from nhsmasslib.brutto import brutto_gen"
   ]
  },
  {
   "cell_type": "markdown",
   "metadata": {},
   "source": [
    "#### Assign brutto formulas by default gdf"
   ]
  },
  {
   "cell_type": "code",
   "execution_count": null,
   "metadata": {},
   "outputs": [],
   "source": [
    "spec = MassSpectrum().load(filename=\"data/sample2.csv\",\n",
    "                            mapper={'m/z':'mass', 'I':'intensity'},\n",
    "                            take_columns=['mass','intensity'],\n",
    "                            sep=',',\n",
    "                            )\n",
    "spec = spec.assign()\n",
    "vk = VanKrevelen(spec.table)\n",
    "vk.draw_scatter()"
   ]
  },
  {
   "cell_type": "markdown",
   "metadata": {},
   "source": [
    "#### Assign brutto formulas by custom gdf\n",
    "\n",
    "For main isotope just it simple. For example, C, H, N, O, Na. It automaticaly take most abudant isotope.\n",
    "For minor isotopes it is necessery mark isotope with \"_\". For example, C_13, H_2, Fe_57\n",
    "Then, after element it is necessary mark range in what it can be in compound. \n",
    "For example \n",
    "'C':(1,40) means that in compouns it may be from 1 to 39 carbon atoms. \n",
    "'H_2':(0:10) means tha in compound it may be from 0 to 9 deterium atoms"
   ]
  },
  {
   "cell_type": "code",
   "execution_count": null,
   "metadata": {},
   "outputs": [],
   "source": [
    "gdf = brutto_gen(elems={'C':(1,40),'C_13':(0,10),'H':(0,100), 'O':(0,40),'N':(0,2), 'Fe':(0,2)})\n",
    "gdf"
   ]
  },
  {
   "cell_type": "code",
   "execution_count": null,
   "metadata": {},
   "outputs": [],
   "source": [
    "spec = MassSpectrum().load(filename=\"data/sample2.csv\",\n",
    "                            mapper={'m/z':'mass', 'I':'intensity'},\n",
    "                            take_columns=['mass','intensity'],\n",
    "                            sep=',',\n",
    "                            )\n",
    "spec = spec.assign(generated_bruttos_table=gdf)\n",
    "vk = VanKrevelen(spec.table)\n",
    "vk.draw_scatter()"
   ]
  }
 ],
 "metadata": {
  "kernelspec": {
   "display_name": "Python 3.8.8 ('base')",
   "language": "python",
   "name": "python3"
  },
  "language_info": {
   "codemirror_mode": {
    "name": "ipython",
    "version": 3
   },
   "file_extension": ".py",
   "mimetype": "text/x-python",
   "name": "python",
   "nbconvert_exporter": "python",
   "pygments_lexer": "ipython3",
   "version": "3.8.8"
  },
  "vscode": {
   "interpreter": {
    "hash": "7456f8c2ffaed130786514d94f2c51fd19c1c3ba9e4278dcccd00a001abcd749"
   }
  }
 },
 "nbformat": 4,
 "nbformat_minor": 4
}
