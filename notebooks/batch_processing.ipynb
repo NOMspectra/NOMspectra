{
 "cells": [
  {
   "cell_type": "markdown",
   "metadata": {},
   "source": [
    "# Batch Processing"
   ]
  },
  {
   "cell_type": "code",
   "execution_count": 1,
   "metadata": {
    "scrolled": true
   },
   "outputs": [],
   "source": [
    "from nhsmass.spectrum import Spectrum\n",
    "from nhsmass.spectra import SpectrumList\n",
    "import nhsmass.draw as draw\n",
    "import pandas as pd\n",
    "import matplotlib.pyplot as plt\n",
    "import os"
   ]
  },
  {
   "cell_type": "markdown",
   "metadata": {},
   "source": [
    "## Load spectra\n",
    "\n",
    "We can load separate Spectrum, treat them and then join it in SpectrumList object which is a list of spectra "
   ]
  },
  {
   "cell_type": "code",
   "execution_count": 2,
   "metadata": {},
   "outputs": [
    {
     "data": {
      "text/plain": [
       "['a_1', 'a_2', 'a_3', 'a_4', 'a_5', 'a_6']"
      ]
     },
     "execution_count": 2,
     "metadata": {},
     "output_type": "execute_result"
    }
   ],
   "source": [
    "specs = SpectrumList()\n",
    "for filename in sorted(os.listdir(\"data/similarity/\")):\n",
    "    if filename[-3:] != 'csv':\n",
    "        continue\n",
    "    spec = Spectrum.read_csv(f\"data/similarity/{filename}\", assign_mark=True)\n",
    "    specs.append(spec)\n",
    "\n",
    "specs.get_names()"
   ]
  },
  {
   "cell_type": "markdown",
   "metadata": {},
   "source": [
    "Or directly load from folder if specs already treated "
   ]
  },
  {
   "cell_type": "code",
   "execution_count": 3,
   "metadata": {},
   "outputs": [
    {
     "data": {
      "text/plain": [
       "['a_4', 'a_5', 'a_6', 'a_2', 'a_3', 'a_1']"
      ]
     },
     "execution_count": 3,
     "metadata": {},
     "output_type": "execute_result"
    }
   ],
   "source": [
    "specs = SpectrumList.read_csv('data/similarity/')\n",
    "specs.get_names()"
   ]
  },
  {
   "cell_type": "markdown",
   "metadata": {},
   "source": [
    "## Calculate simmilarity index and plot matrix\n",
    "\n",
    "Calculate simmilarity indexes. For now it common indexes - Cosine, Tanimoto and Jaccard"
   ]
  },
  {
   "cell_type": "code",
   "execution_count": 4,
   "metadata": {},
   "outputs": [
    {
     "data": {
      "text/plain": [
       "array([[1.        , 0.63921734, 0.55387418, 0.22893115, 0.12221844,\n",
       "        0.24206235],\n",
       "       [0.63921734, 1.        , 0.46713676, 0.11426236, 0.04536192,\n",
       "        0.13553428],\n",
       "       [0.55387418, 0.46713676, 1.        , 0.3297159 , 0.12996979,\n",
       "        0.33440804],\n",
       "       [0.22893115, 0.11426236, 0.3297159 , 1.        , 0.27330141,\n",
       "        0.59910651],\n",
       "       [0.12221844, 0.04536192, 0.12996979, 0.27330141, 1.        ,\n",
       "        0.0912144 ],\n",
       "       [0.24206235, 0.13553428, 0.33440804, 0.59910651, 0.0912144 ,\n",
       "        1.        ]])"
      ]
     },
     "execution_count": 4,
     "metadata": {},
     "output_type": "execute_result"
    }
   ],
   "source": [
    "specs.get_simmilarity(mode='cosine')"
   ]
  },
  {
   "cell_type": "markdown",
   "metadata": {},
   "source": [
    "And plot matrix"
   ]
  },
  {
   "cell_type": "code",
   "execution_count": 5,
   "metadata": {},
   "outputs": [
    {
     "data": {
      "image/png": "[encoded data removed]",
      "text/plain": [
       "<Figure size 450x450 with 2 Axes>"
      ]
     },
     "metadata": {
      "needs_background": "light"
     },
     "output_type": "display_data"
    }
   ],
   "source": [
    "specs.draw_simmilarity(mode='cosine')"
   ]
  },
  {
   "cell_type": "markdown",
   "metadata": {},
   "source": [
    "## Calculate metrics\n",
    "\n",
    "From spectra we can get molecular metrics"
   ]
  },
  {
   "cell_type": "code",
   "execution_count": 6,
   "metadata": {},
   "outputs": [
    {
     "data": {
      "text/html": [
       "<div>\n",
       "<style scoped>\n",
       "    .dataframe tbody tr th:only-of-type {\n",
       "        vertical-align: middle;\n",
       "    }\n",
       "\n",
       "    .dataframe tbody tr th {\n",
       "        vertical-align: top;\n",
       "    }\n",
       "\n",
       "    .dataframe thead th {\n",
       "        text-align: right;\n",
       "    }\n",
       "</style>\n",
       "<table border=\"1\" class=\"dataframe\">\n",
       "  <thead>\n",
       "    <tr style=\"text-align: right;\">\n",
       "      <th></th>\n",
       "      <th>a_4</th>\n",
       "      <th>a_5</th>\n",
       "      <th>a_6</th>\n",
       "      <th>a_2</th>\n",
       "      <th>a_3</th>\n",
       "      <th>a_1</th>\n",
       "    </tr>\n",
       "  </thead>\n",
       "  <tbody>\n",
       "    <tr>\n",
       "      <th>AI</th>\n",
       "      <td>-0.079344</td>\n",
       "      <td>-0.037731</td>\n",
       "      <td>-0.307631</td>\n",
       "      <td>0.444909</td>\n",
       "      <td>0.613860</td>\n",
       "      <td>0.171642</td>\n",
       "    </tr>\n",
       "    <tr>\n",
       "      <th>C</th>\n",
       "      <td>21.476279</td>\n",
       "      <td>21.143970</td>\n",
       "      <td>17.786572</td>\n",
       "      <td>22.186035</td>\n",
       "      <td>23.129087</td>\n",
       "      <td>17.967260</td>\n",
       "    </tr>\n",
       "    <tr>\n",
       "      <th>CAI</th>\n",
       "      <td>9.251700</td>\n",
       "      <td>8.712936</td>\n",
       "      <td>9.954005</td>\n",
       "      <td>15.300819</td>\n",
       "      <td>16.397214</td>\n",
       "      <td>12.064931</td>\n",
       "    </tr>\n",
       "    <tr>\n",
       "      <th>CRAM</th>\n",
       "      <td>0.552194</td>\n",
       "      <td>0.540266</td>\n",
       "      <td>0.485958</td>\n",
       "      <td>0.090364</td>\n",
       "      <td>0.035393</td>\n",
       "      <td>0.204550</td>\n",
       "    </tr>\n",
       "    <tr>\n",
       "      <th>DBE</th>\n",
       "      <td>12.644497</td>\n",
       "      <td>12.636119</td>\n",
       "      <td>8.106037</td>\n",
       "      <td>13.660797</td>\n",
       "      <td>16.722827</td>\n",
       "      <td>8.526630</td>\n",
       "    </tr>\n",
       "    <tr>\n",
       "      <th>DBE-O</th>\n",
       "      <td>0.806469</td>\n",
       "      <td>0.492241</td>\n",
       "      <td>0.560464</td>\n",
       "      <td>7.055005</td>\n",
       "      <td>10.396550</td>\n",
       "      <td>2.820194</td>\n",
       "    </tr>\n",
       "    <tr>\n",
       "      <th>DBE-OC</th>\n",
       "      <td>0.033105</td>\n",
       "      <td>0.017236</td>\n",
       "      <td>0.017788</td>\n",
       "      <td>0.298224</td>\n",
       "      <td>0.447654</td>\n",
       "      <td>0.118010</td>\n",
       "    </tr>\n",
       "    <tr>\n",
       "      <th>DBE_AI</th>\n",
       "      <td>0.419919</td>\n",
       "      <td>0.205085</td>\n",
       "      <td>0.273470</td>\n",
       "      <td>6.775581</td>\n",
       "      <td>9.990954</td>\n",
       "      <td>2.624301</td>\n",
       "    </tr>\n",
       "    <tr>\n",
       "      <th>H</th>\n",
       "      <td>20.004788</td>\n",
       "      <td>19.264393</td>\n",
       "      <td>21.578437</td>\n",
       "      <td>19.305284</td>\n",
       "      <td>15.211308</td>\n",
       "      <td>21.029147</td>\n",
       "    </tr>\n",
       "    <tr>\n",
       "      <th>H/C</th>\n",
       "      <td>0.941654</td>\n",
       "      <td>0.924041</td>\n",
       "      <td>1.220249</td>\n",
       "      <td>0.918817</td>\n",
       "      <td>0.655002</td>\n",
       "      <td>1.261374</td>\n",
       "    </tr>\n",
       "    <tr>\n",
       "      <th>N</th>\n",
       "      <td>0.341225</td>\n",
       "      <td>0.248690</td>\n",
       "      <td>0.217368</td>\n",
       "      <td>0.254807</td>\n",
       "      <td>0.398788</td>\n",
       "      <td>0.147887</td>\n",
       "    </tr>\n",
       "    <tr>\n",
       "      <th>NOSC</th>\n",
       "      <td>0.225485</td>\n",
       "      <td>0.268255</td>\n",
       "      <td>-0.290940</td>\n",
       "      <td>-0.289653</td>\n",
       "      <td>-0.039698</td>\n",
       "      <td>-0.601656</td>\n",
       "    </tr>\n",
       "    <tr>\n",
       "      <th>O</th>\n",
       "      <td>11.838028</td>\n",
       "      <td>12.143877</td>\n",
       "      <td>7.545574</td>\n",
       "      <td>6.605792</td>\n",
       "      <td>6.326276</td>\n",
       "      <td>5.706435</td>\n",
       "    </tr>\n",
       "    <tr>\n",
       "      <th>O/C</th>\n",
       "      <td>0.555214</td>\n",
       "      <td>0.575824</td>\n",
       "      <td>0.439298</td>\n",
       "      <td>0.295497</td>\n",
       "      <td>0.279618</td>\n",
       "      <td>0.315787</td>\n",
       "    </tr>\n",
       "    <tr>\n",
       "      <th>S</th>\n",
       "      <td>0.045326</td>\n",
       "      <td>0.038467</td>\n",
       "      <td>0.069625</td>\n",
       "      <td>0.024617</td>\n",
       "      <td>0.006808</td>\n",
       "      <td>0.048007</td>\n",
       "    </tr>\n",
       "    <tr>\n",
       "      <th>Unnamed: 0</th>\n",
       "      <td>5134.428335</td>\n",
       "      <td>1918.021934</td>\n",
       "      <td>1496.312157</td>\n",
       "      <td>841.325051</td>\n",
       "      <td>1782.231948</td>\n",
       "      <td>1584.499424</td>\n",
       "    </tr>\n",
       "    <tr>\n",
       "      <th>errorPPM</th>\n",
       "      <td>0.001824</td>\n",
       "      <td>0.029912</td>\n",
       "      <td>0.045206</td>\n",
       "      <td>-0.029267</td>\n",
       "      <td>-0.030579</td>\n",
       "      <td>0.000557</td>\n",
       "    </tr>\n",
       "    <tr>\n",
       "      <th>formula</th>\n",
       "      <td>NaN</td>\n",
       "      <td>NaN</td>\n",
       "      <td>NaN</td>\n",
       "      <td>NaN</td>\n",
       "      <td>NaN</td>\n",
       "      <td>NaN</td>\n",
       "    </tr>\n",
       "    <tr>\n",
       "      <th>mass</th>\n",
       "      <td>473.590881</td>\n",
       "      <td>472.240469</td>\n",
       "      <td>361.207872</td>\n",
       "      <td>395.774294</td>\n",
       "      <td>399.951346</td>\n",
       "      <td>331.795644</td>\n",
       "    </tr>\n",
       "    <tr>\n",
       "      <th>peakNo</th>\n",
       "      <td>5134.428335</td>\n",
       "      <td>1918.021934</td>\n",
       "      <td>1496.312157</td>\n",
       "      <td>841.325051</td>\n",
       "      <td>1782.231948</td>\n",
       "      <td>1584.499424</td>\n",
       "    </tr>\n",
       "    <tr>\n",
       "      <th>z</th>\n",
       "      <td>0.000000</td>\n",
       "      <td>0.000000</td>\n",
       "      <td>0.000000</td>\n",
       "      <td>0.000000</td>\n",
       "      <td>0.000000</td>\n",
       "      <td>0.000000</td>\n",
       "    </tr>\n",
       "  </tbody>\n",
       "</table>\n",
       "</div>"
      ],
      "text/plain": [
       "                    a_4          a_5          a_6         a_2          a_3  \\\n",
       "AI            -0.079344    -0.037731    -0.307631    0.444909     0.613860   \n",
       "C             21.476279    21.143970    17.786572   22.186035    23.129087   \n",
       "CAI            9.251700     8.712936     9.954005   15.300819    16.397214   \n",
       "CRAM           0.552194     0.540266     0.485958    0.090364     0.035393   \n",
       "DBE           12.644497    12.636119     8.106037   13.660797    16.722827   \n",
       "DBE-O          0.806469     0.492241     0.560464    7.055005    10.396550   \n",
       "DBE-OC         0.033105     0.017236     0.017788    0.298224     0.447654   \n",
       "DBE_AI         0.419919     0.205085     0.273470    6.775581     9.990954   \n",
       "H             20.004788    19.264393    21.578437   19.305284    15.211308   \n",
       "H/C            0.941654     0.924041     1.220249    0.918817     0.655002   \n",
       "N              0.341225     0.248690     0.217368    0.254807     0.398788   \n",
       "NOSC           0.225485     0.268255    -0.290940   -0.289653    -0.039698   \n",
       "O             11.838028    12.143877     7.545574    6.605792     6.326276   \n",
       "O/C            0.555214     0.575824     0.439298    0.295497     0.279618   \n",
       "S              0.045326     0.038467     0.069625    0.024617     0.006808   \n",
       "Unnamed: 0  5134.428335  1918.021934  1496.312157  841.325051  1782.231948   \n",
       "errorPPM       0.001824     0.029912     0.045206   -0.029267    -0.030579   \n",
       "formula             NaN          NaN          NaN         NaN          NaN   \n",
       "mass         473.590881   472.240469   361.207872  395.774294   399.951346   \n",
       "peakNo      5134.428335  1918.021934  1496.312157  841.325051  1782.231948   \n",
       "z              0.000000     0.000000     0.000000    0.000000     0.000000   \n",
       "\n",
       "                    a_1  \n",
       "AI             0.171642  \n",
       "C             17.967260  \n",
       "CAI           12.064931  \n",
       "CRAM           0.204550  \n",
       "DBE            8.526630  \n",
       "DBE-O          2.820194  \n",
       "DBE-OC         0.118010  \n",
       "DBE_AI         2.624301  \n",
       "H             21.029147  \n",
       "H/C            1.261374  \n",
       "N              0.147887  \n",
       "NOSC          -0.601656  \n",
       "O              5.706435  \n",
       "O/C            0.315787  \n",
       "S              0.048007  \n",
       "Unnamed: 0  1584.499424  \n",
       "errorPPM       0.000557  \n",
       "formula             NaN  \n",
       "mass         331.795644  \n",
       "peakNo      1584.499424  \n",
       "z              0.000000  "
      ]
     },
     "execution_count": 6,
     "metadata": {},
     "output_type": "execute_result"
    }
   ],
   "source": [
    "specs.get_mol_metrics()"
   ]
  },
  {
   "cell_type": "markdown",
   "metadata": {},
   "source": [
    "Get molecular class density and plot bar"
   ]
  },
  {
   "cell_type": "code",
   "execution_count": 7,
   "metadata": {},
   "outputs": [
    {
     "data": {
      "text/html": [
       "<div>\n",
       "<style scoped>\n",
       "    .dataframe tbody tr th:only-of-type {\n",
       "        vertical-align: middle;\n",
       "    }\n",
       "\n",
       "    .dataframe tbody tr th {\n",
       "        vertical-align: top;\n",
       "    }\n",
       "\n",
       "    .dataframe thead th {\n",
       "        text-align: right;\n",
       "    }\n",
       "</style>\n",
       "<table border=\"1\" class=\"dataframe\">\n",
       "  <thead>\n",
       "    <tr style=\"text-align: right;\">\n",
       "      <th></th>\n",
       "      <th>a_4</th>\n",
       "      <th>a_5</th>\n",
       "      <th>a_6</th>\n",
       "      <th>a_2</th>\n",
       "      <th>a_3</th>\n",
       "      <th>a_1</th>\n",
       "    </tr>\n",
       "  </thead>\n",
       "  <tbody>\n",
       "    <tr>\n",
       "      <th>unsat_lowOC</th>\n",
       "      <td>0.201447</td>\n",
       "      <td>0.183535</td>\n",
       "      <td>0.408356</td>\n",
       "      <td>0.195555</td>\n",
       "      <td>0.147491</td>\n",
       "      <td>0.196795</td>\n",
       "    </tr>\n",
       "    <tr>\n",
       "      <th>unsat_highOC</th>\n",
       "      <td>0.654447</td>\n",
       "      <td>0.716404</td>\n",
       "      <td>0.217642</td>\n",
       "      <td>0.006134</td>\n",
       "      <td>0.004349</td>\n",
       "      <td>0.080142</td>\n",
       "    </tr>\n",
       "    <tr>\n",
       "      <th>condensed_lowOC</th>\n",
       "      <td>0.026479</td>\n",
       "      <td>0.005946</td>\n",
       "      <td>0.028384</td>\n",
       "      <td>0.256306</td>\n",
       "      <td>0.441213</td>\n",
       "      <td>0.118184</td>\n",
       "    </tr>\n",
       "    <tr>\n",
       "      <th>condensed_highOC</th>\n",
       "      <td>0.002802</td>\n",
       "      <td>0.000989</td>\n",
       "      <td>0.000662</td>\n",
       "      <td>0.001651</td>\n",
       "      <td>0.002156</td>\n",
       "      <td>0.002919</td>\n",
       "    </tr>\n",
       "    <tr>\n",
       "      <th>aromatic_lowOC</th>\n",
       "      <td>0.028453</td>\n",
       "      <td>0.013982</td>\n",
       "      <td>0.044924</td>\n",
       "      <td>0.290728</td>\n",
       "      <td>0.336764</td>\n",
       "      <td>0.138210</td>\n",
       "    </tr>\n",
       "    <tr>\n",
       "      <th>aromatic_highOC</th>\n",
       "      <td>0.015343</td>\n",
       "      <td>0.011668</td>\n",
       "      <td>0.005026</td>\n",
       "      <td>0.014576</td>\n",
       "      <td>0.014677</td>\n",
       "      <td>0.016288</td>\n",
       "    </tr>\n",
       "    <tr>\n",
       "      <th>aliphatics</th>\n",
       "      <td>0.014729</td>\n",
       "      <td>0.023744</td>\n",
       "      <td>0.155616</td>\n",
       "      <td>0.005297</td>\n",
       "      <td>0.000097</td>\n",
       "      <td>0.045678</td>\n",
       "    </tr>\n",
       "    <tr>\n",
       "      <th>lipids</th>\n",
       "      <td>0.028270</td>\n",
       "      <td>0.022411</td>\n",
       "      <td>0.101287</td>\n",
       "      <td>0.186821</td>\n",
       "      <td>0.018383</td>\n",
       "      <td>0.369506</td>\n",
       "    </tr>\n",
       "    <tr>\n",
       "      <th>N-satureted</th>\n",
       "      <td>0.003950</td>\n",
       "      <td>0.000688</td>\n",
       "      <td>0.016474</td>\n",
       "      <td>0.005117</td>\n",
       "      <td>0.000000</td>\n",
       "      <td>0.006827</td>\n",
       "    </tr>\n",
       "    <tr>\n",
       "      <th>undefinded</th>\n",
       "      <td>0.024080</td>\n",
       "      <td>0.020633</td>\n",
       "      <td>0.021629</td>\n",
       "      <td>0.037814</td>\n",
       "      <td>0.034871</td>\n",
       "      <td>0.025451</td>\n",
       "    </tr>\n",
       "  </tbody>\n",
       "</table>\n",
       "</div>"
      ],
      "text/plain": [
       "                       a_4       a_5       a_6       a_2       a_3       a_1\n",
       "unsat_lowOC       0.201447  0.183535  0.408356  0.195555  0.147491  0.196795\n",
       "unsat_highOC      0.654447  0.716404  0.217642  0.006134  0.004349  0.080142\n",
       "condensed_lowOC   0.026479  0.005946  0.028384  0.256306  0.441213  0.118184\n",
       "condensed_highOC  0.002802  0.000989  0.000662  0.001651  0.002156  0.002919\n",
       "aromatic_lowOC    0.028453  0.013982  0.044924  0.290728  0.336764  0.138210\n",
       "aromatic_highOC   0.015343  0.011668  0.005026  0.014576  0.014677  0.016288\n",
       "aliphatics        0.014729  0.023744  0.155616  0.005297  0.000097  0.045678\n",
       "lipids            0.028270  0.022411  0.101287  0.186821  0.018383  0.369506\n",
       "N-satureted       0.003950  0.000688  0.016474  0.005117  0.000000  0.006827\n",
       "undefinded        0.024080  0.020633  0.021629  0.037814  0.034871  0.025451"
      ]
     },
     "execution_count": 7,
     "metadata": {},
     "output_type": "execute_result"
    },
    {
     "data": {
      "image/png": "[encoded data removed]",
      "text/plain": [
       "<Figure size 300x300 with 1 Axes>"
      ]
     },
     "metadata": {
      "needs_background": "light"
     },
     "output_type": "display_data"
    }
   ],
   "source": [
    "specs.draw_mol_density()\n",
    "specs.get_mol_density()"
   ]
  },
  {
   "cell_type": "markdown",
   "metadata": {},
   "source": [
    "Also we can calculate density of squares of Van Krevelen diagram"
   ]
  },
  {
   "cell_type": "code",
   "execution_count": 8,
   "metadata": {},
   "outputs": [
    {
     "data": {
      "text/html": [
       "<div>\n",
       "<style scoped>\n",
       "    .dataframe tbody tr th:only-of-type {\n",
       "        vertical-align: middle;\n",
       "    }\n",
       "\n",
       "    .dataframe tbody tr th {\n",
       "        vertical-align: top;\n",
       "    }\n",
       "\n",
       "    .dataframe thead th {\n",
       "        text-align: right;\n",
       "    }\n",
       "</style>\n",
       "<table border=\"1\" class=\"dataframe\">\n",
       "  <thead>\n",
       "    <tr style=\"text-align: right;\">\n",
       "      <th></th>\n",
       "      <th>a_4</th>\n",
       "      <th>a_5</th>\n",
       "      <th>a_6</th>\n",
       "      <th>a_2</th>\n",
       "      <th>a_3</th>\n",
       "      <th>a_1</th>\n",
       "    </tr>\n",
       "  </thead>\n",
       "  <tbody>\n",
       "    <tr>\n",
       "      <th>1</th>\n",
       "      <td>0.008942</td>\n",
       "      <td>0.004066</td>\n",
       "      <td>0.014149</td>\n",
       "      <td>0.046670</td>\n",
       "      <td>0.178541</td>\n",
       "      <td>0.009918</td>\n",
       "    </tr>\n",
       "    <tr>\n",
       "      <th>2</th>\n",
       "      <td>0.002034</td>\n",
       "      <td>0.001793</td>\n",
       "      <td>0.012627</td>\n",
       "      <td>0.033494</td>\n",
       "      <td>0.149713</td>\n",
       "      <td>0.005776</td>\n",
       "    </tr>\n",
       "    <tr>\n",
       "      <th>3</th>\n",
       "      <td>0.000819</td>\n",
       "      <td>0.000160</td>\n",
       "      <td>0.010486</td>\n",
       "      <td>0.046734</td>\n",
       "      <td>0.061893</td>\n",
       "      <td>0.010208</td>\n",
       "    </tr>\n",
       "    <tr>\n",
       "      <th>4</th>\n",
       "      <td>0.023089</td>\n",
       "      <td>0.017808</td>\n",
       "      <td>0.038597</td>\n",
       "      <td>0.041165</td>\n",
       "      <td>0.023237</td>\n",
       "      <td>0.069177</td>\n",
       "    </tr>\n",
       "    <tr>\n",
       "      <th>5</th>\n",
       "      <td>0.005045</td>\n",
       "      <td>0.003707</td>\n",
       "      <td>0.044065</td>\n",
       "      <td>0.153976</td>\n",
       "      <td>0.004767</td>\n",
       "      <td>0.293159</td>\n",
       "    </tr>\n",
       "    <tr>\n",
       "      <th>6</th>\n",
       "      <td>0.028251</td>\n",
       "      <td>0.009248</td>\n",
       "      <td>0.023760</td>\n",
       "      <td>0.356841</td>\n",
       "      <td>0.348926</td>\n",
       "      <td>0.188009</td>\n",
       "    </tr>\n",
       "    <tr>\n",
       "      <th>7</th>\n",
       "      <td>0.070833</td>\n",
       "      <td>0.049838</td>\n",
       "      <td>0.102810</td>\n",
       "      <td>0.199036</td>\n",
       "      <td>0.165541</td>\n",
       "      <td>0.093670</td>\n",
       "    </tr>\n",
       "    <tr>\n",
       "      <th>8</th>\n",
       "      <td>0.087435</td>\n",
       "      <td>0.083649</td>\n",
       "      <td>0.225485</td>\n",
       "      <td>0.060352</td>\n",
       "      <td>0.023909</td>\n",
       "      <td>0.103503</td>\n",
       "    </tr>\n",
       "    <tr>\n",
       "      <th>9</th>\n",
       "      <td>0.015644</td>\n",
       "      <td>0.021632</td>\n",
       "      <td>0.129569</td>\n",
       "      <td>0.008620</td>\n",
       "      <td>0.001865</td>\n",
       "      <td>0.045593</td>\n",
       "    </tr>\n",
       "    <tr>\n",
       "      <th>10</th>\n",
       "      <td>0.002791</td>\n",
       "      <td>0.006214</td>\n",
       "      <td>0.034856</td>\n",
       "      <td>0.006054</td>\n",
       "      <td>0.000000</td>\n",
       "      <td>0.027571</td>\n",
       "    </tr>\n",
       "    <tr>\n",
       "      <th>11</th>\n",
       "      <td>0.066727</td>\n",
       "      <td>0.092062</td>\n",
       "      <td>0.017016</td>\n",
       "      <td>0.035408</td>\n",
       "      <td>0.032921</td>\n",
       "      <td>0.039697</td>\n",
       "    </tr>\n",
       "    <tr>\n",
       "      <th>12</th>\n",
       "      <td>0.372026</td>\n",
       "      <td>0.420460</td>\n",
       "      <td>0.109793</td>\n",
       "      <td>0.010715</td>\n",
       "      <td>0.008141</td>\n",
       "      <td>0.040661</td>\n",
       "    </tr>\n",
       "    <tr>\n",
       "      <th>13</th>\n",
       "      <td>0.248249</td>\n",
       "      <td>0.219455</td>\n",
       "      <td>0.138720</td>\n",
       "      <td>0.000269</td>\n",
       "      <td>0.000090</td>\n",
       "      <td>0.048610</td>\n",
       "    </tr>\n",
       "    <tr>\n",
       "      <th>14</th>\n",
       "      <td>0.015856</td>\n",
       "      <td>0.013362</td>\n",
       "      <td>0.040365</td>\n",
       "      <td>0.000000</td>\n",
       "      <td>0.000000</td>\n",
       "      <td>0.011880</td>\n",
       "    </tr>\n",
       "    <tr>\n",
       "      <th>15</th>\n",
       "      <td>0.000423</td>\n",
       "      <td>0.001304</td>\n",
       "      <td>0.005874</td>\n",
       "      <td>0.000000</td>\n",
       "      <td>0.000000</td>\n",
       "      <td>0.001774</td>\n",
       "    </tr>\n",
       "    <tr>\n",
       "      <th>16</th>\n",
       "      <td>0.003531</td>\n",
       "      <td>0.008137</td>\n",
       "      <td>0.001184</td>\n",
       "      <td>0.000000</td>\n",
       "      <td>0.000211</td>\n",
       "      <td>0.002251</td>\n",
       "    </tr>\n",
       "    <tr>\n",
       "      <th>17</th>\n",
       "      <td>0.028628</td>\n",
       "      <td>0.036910</td>\n",
       "      <td>0.005151</td>\n",
       "      <td>0.000182</td>\n",
       "      <td>0.000000</td>\n",
       "      <td>0.003421</td>\n",
       "    </tr>\n",
       "    <tr>\n",
       "      <th>18</th>\n",
       "      <td>0.015810</td>\n",
       "      <td>0.010031</td>\n",
       "      <td>0.004591</td>\n",
       "      <td>0.000237</td>\n",
       "      <td>0.000123</td>\n",
       "      <td>0.003076</td>\n",
       "    </tr>\n",
       "    <tr>\n",
       "      <th>19</th>\n",
       "      <td>0.002573</td>\n",
       "      <td>0.000165</td>\n",
       "      <td>0.024572</td>\n",
       "      <td>0.000249</td>\n",
       "      <td>0.000000</td>\n",
       "      <td>0.001212</td>\n",
       "    </tr>\n",
       "    <tr>\n",
       "      <th>20</th>\n",
       "      <td>0.000423</td>\n",
       "      <td>0.000000</td>\n",
       "      <td>0.008698</td>\n",
       "      <td>0.000000</td>\n",
       "      <td>0.000000</td>\n",
       "      <td>0.000089</td>\n",
       "    </tr>\n",
       "  </tbody>\n",
       "</table>\n",
       "</div>"
      ],
      "text/plain": [
       "         a_4       a_5       a_6       a_2       a_3       a_1\n",
       "1   0.008942  0.004066  0.014149  0.046670  0.178541  0.009918\n",
       "2   0.002034  0.001793  0.012627  0.033494  0.149713  0.005776\n",
       "3   0.000819  0.000160  0.010486  0.046734  0.061893  0.010208\n",
       "4   0.023089  0.017808  0.038597  0.041165  0.023237  0.069177\n",
       "5   0.005045  0.003707  0.044065  0.153976  0.004767  0.293159\n",
       "6   0.028251  0.009248  0.023760  0.356841  0.348926  0.188009\n",
       "7   0.070833  0.049838  0.102810  0.199036  0.165541  0.093670\n",
       "8   0.087435  0.083649  0.225485  0.060352  0.023909  0.103503\n",
       "9   0.015644  0.021632  0.129569  0.008620  0.001865  0.045593\n",
       "10  0.002791  0.006214  0.034856  0.006054  0.000000  0.027571\n",
       "11  0.066727  0.092062  0.017016  0.035408  0.032921  0.039697\n",
       "12  0.372026  0.420460  0.109793  0.010715  0.008141  0.040661\n",
       "13  0.248249  0.219455  0.138720  0.000269  0.000090  0.048610\n",
       "14  0.015856  0.013362  0.040365  0.000000  0.000000  0.011880\n",
       "15  0.000423  0.001304  0.005874  0.000000  0.000000  0.001774\n",
       "16  0.003531  0.008137  0.001184  0.000000  0.000211  0.002251\n",
       "17  0.028628  0.036910  0.005151  0.000182  0.000000  0.003421\n",
       "18  0.015810  0.010031  0.004591  0.000237  0.000123  0.003076\n",
       "19  0.002573  0.000165  0.024572  0.000249  0.000000  0.001212\n",
       "20  0.000423  0.000000  0.008698  0.000000  0.000000  0.000089"
      ]
     },
     "execution_count": 8,
     "metadata": {},
     "output_type": "execute_result"
    }
   ],
   "source": [
    "specs.get_square_vk()"
   ]
  },
  {
   "cell_type": "markdown",
   "metadata": {},
   "source": [
    "## SpectrumList is a list\n",
    "\n",
    "With SpectrumList object we can work as with list, for example, plot spectrum"
   ]
  },
  {
   "cell_type": "code",
   "execution_count": 9,
   "metadata": {},
   "outputs": [
    {
     "data": {
      "image/png": "[encoded data removed]",
      "text/plain": [
       "<Figure size 300x300 with 1 Axes>"
      ]
     },
     "metadata": {
      "needs_background": "light"
     },
     "output_type": "display_data"
    },
    {
     "data": {
      "image/png": "[encoded data removed]",
      "text/plain": [
       "<Figure size 300x300 with 1 Axes>"
      ]
     },
     "metadata": {
      "needs_background": "light"
     },
     "output_type": "display_data"
    },
    {
     "data": {
      "image/png": "[encoded data removed]",
      "text/plain": [
       "<Figure size 300x300 with 1 Axes>"
      ]
     },
     "metadata": {
      "needs_background": "light"
     },
     "output_type": "display_data"
    },
    {
     "data": {
      "image/png": "[encoded data removed]",
      "text/plain": [
       "<Figure size 300x300 with 1 Axes>"
      ]
     },
     "metadata": {
      "needs_background": "light"
     },
     "output_type": "display_data"
    },
    {
     "data": {
      "image/png": "[encoded data removed]",
      "text/plain": [
       "<Figure size 300x300 with 1 Axes>"
      ]
     },
     "metadata": {
      "needs_background": "light"
     },
     "output_type": "display_data"
    },
    {
     "data": {
      "image/png": "[encoded data removed]",
      "text/plain": [
       "<Figure size 300x300 with 1 Axes>"
      ]
     },
     "metadata": {
      "needs_background": "light"
     },
     "output_type": "display_data"
    }
   ],
   "source": [
    "for spec in specs:\n",
    "    draw.spectrum(spec)"
   ]
  },
  {
   "cell_type": "markdown",
   "metadata": {},
   "source": [
    "And save all data in folder"
   ]
  },
  {
   "cell_type": "code",
   "execution_count": 10,
   "metadata": {},
   "outputs": [],
   "source": [
    "if 'temp' not in os.listdir():\n",
    "    os.mkdir('temp')\n",
    "\n",
    "specs.to_csv('temp')"
   ]
  }
 ],
 "metadata": {
  "kernelspec": {
   "display_name": "Python 3 (ipykernel)",
   "language": "python",
   "name": "python3"
  },
  "language_info": {
   "codemirror_mode": {
    "name": "ipython",
    "version": 3
   },
   "file_extension": ".py",
   "mimetype": "text/x-python",
   "name": "python",
   "nbconvert_exporter": "python",
   "pygments_lexer": "ipython3",
   "version": "3.8.13"
  },
  "vscode": {
   "interpreter": {
    "hash": "7456f8c2ffaed130786514d94f2c51fd19c1c3ba9e4278dcccd00a001abcd749"
   }
  }
 },
 "nbformat": 4,
 "nbformat_minor": 4
}
