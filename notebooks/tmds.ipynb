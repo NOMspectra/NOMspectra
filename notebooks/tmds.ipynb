{
 "cells": [
  {
   "cell_type": "code",
   "execution_count": null,
   "metadata": {},
   "outputs": [],
   "source": [
    "#for relative open masslib\n",
    "import sys\n",
    "sys.path.append('..')\n",
    "import warnings\n",
    "warnings.filterwarnings('ignore')"
   ]
  },
  {
   "cell_type": "code",
   "execution_count": null,
   "metadata": {
    "scrolled": true
   },
   "outputs": [],
   "source": [
    "from nhsmass.spectrum import Spectrum\n",
    "from nhsmass.spectrum import Tmds\n",
    "from nhsmass.brutto import brutto_gen\n",
    "import nhsmass.draw as draw"
   ]
  },
  {
   "cell_type": "markdown",
   "metadata": {},
   "source": [
    "#### Load spectrum\n",
    "\n",
    "Assign with minimal error - 0.25 for more reliable results\n",
    "\n",
    "Show initial vk"
   ]
  },
  {
   "cell_type": "code",
   "execution_count": null,
   "metadata": {},
   "outputs": [],
   "source": [
    "spec = Spectrum().read_csv('data/sample3.txt', mapper={'mass':'mass','intensity':'intensity'}, sep=',', take_columns=['mass','intensity'])\n",
    "brutto_dict = brutto_gen(elems={'C':(1,40),'H':(0,80), 'O':(0,40),'N':(0,2)})\n",
    "spec = spec.assign(generated_bruttos_table=brutto_dict, rel_error=0.25)\n",
    "draw.vk(spec)\n",
    "spec.squares_vk()"
   ]
  },
  {
   "cell_type": "markdown",
   "metadata": {},
   "source": [
    "#### Caclculate Total mass difference statistic (TMDS)"
   ]
  },
  {
   "cell_type": "code",
   "execution_count": null,
   "metadata": {},
   "outputs": [],
   "source": [
    "spec = spec.calculate_mass()"
   ]
  },
  {
   "cell_type": "code",
   "execution_count": null,
   "metadata": {},
   "outputs": [],
   "source": [
    "tmds_spec = Tmds(spec=spec).calc(p=0.2) #by varifiy p-value we can choose how much mass-diff we will take\n",
    "tmds_spec = tmds_spec.assign(brutto_dict={'C':(-1,20),'H':(-4,40), 'O':(-1,20),'N':(0,1)})\n",
    "tmds_spec = tmds_spec.calc_mass()\n",
    "tmds_spec.table"
   ]
  },
  {
   "cell_type": "code",
   "execution_count": null,
   "metadata": {},
   "outputs": [],
   "source": [
    "draw.spectrum(tmds_spec)"
   ]
  },
  {
   "cell_type": "markdown",
   "metadata": {},
   "source": [
    "#### Assigne by TMDS. It is takes a lot of times"
   ]
  },
  {
   "cell_type": "code",
   "execution_count": null,
   "metadata": {},
   "outputs": [],
   "source": [
    "spec = spec.assign_by_tmds(tmds_spec)\n",
    "#show percent of process complete"
   ]
  },
  {
   "cell_type": "markdown",
   "metadata": {},
   "source": [
    "#### Look result"
   ]
  },
  {
   "cell_type": "code",
   "execution_count": null,
   "metadata": {},
   "outputs": [],
   "source": [
    "draw.vk(spec)\n",
    "spec.squares_vk()"
   ]
  },
  {
   "cell_type": "markdown",
   "metadata": {},
   "source": [
    "#### Without TMDS and rel_error 0.5 ppm"
   ]
  },
  {
   "cell_type": "code",
   "execution_count": null,
   "metadata": {},
   "outputs": [],
   "source": [
    "spec2 = Spectrum().read_csv('data/sample3.txt', mapper={'mass':'mass','intensity':'intensity'}, sep=',', take_columns=['mass','intensity'])\n",
    "gdf = brutto_gen(elems={'C':(1,40),'H':(0,80), 'O':(0,40),'N':(0,3)})\n",
    "spec2 = spec2.assign(generated_bruttos_table=gdf, rel_error=0.5)\n",
    "draw.vk(spec)\n",
    "spec.squares_vk()"
   ]
  },
  {
   "cell_type": "markdown",
   "metadata": {},
   "source": [
    "#### Short take tmds\n",
    "\n",
    "take 100 diff-masses from tmds\n",
    "\n",
    "If you want to fast you treatment or restrict tmds by number you can restrict it. But for best result it is better to use 400-500 mass-diffrences from tmds."
   ]
  },
  {
   "cell_type": "code",
   "execution_count": null,
   "metadata": {},
   "outputs": [],
   "source": [
    "spec = Spectrum().read_csv('data/sample3.txt', mapper={'mass':'mass','intensity':'intensity'}, sep=',', take_columns=['mass','intensity'])\n",
    "gdf = brutto_gen(elems={'C':(1,40),'H':(0,80), 'O':(0,40),'N':(0,2)})\n",
    "spec = spec.assign(generated_bruttos_table=gdf, rel_error=0.25)\n",
    "\n",
    "spec = spec.assign_by_tmds(max_num=100)\n",
    "\n",
    "draw.vk(spec)\n",
    "spec.squares_vk()"
   ]
  },
  {
   "cell_type": "markdown",
   "metadata": {},
   "source": [
    "#### Short take tmds\n",
    "\n",
    "take tmds with p-value = 0.7\n",
    "\n",
    "Some times with default p-value = 0.2 tmds spectrum will be too big, so its reasonobly restrict it by p-value."
   ]
  },
  {
   "cell_type": "code",
   "execution_count": null,
   "metadata": {},
   "outputs": [],
   "source": [
    "spec = Spectrum().read_csv('data/sample3.txt', mapper={'mass':'mass','intensity':'intensity'}, sep=',', take_columns=['mass','intensity'])\n",
    "gdf = brutto_gen(elems={'C':(1,40),'H':(0,80), 'O':(0,40),'N':(0,2)})\n",
    "spec = spec.assign(generated_bruttos_table=gdf, rel_error=0.25)\n",
    "\n",
    "spec = spec.assign_by_tmds(p=0.7)\n",
    "\n",
    "draw.vk(spec)\n",
    "spec.squares_vk()"
   ]
  },
  {
   "cell_type": "markdown",
   "metadata": {},
   "source": [
    "#### Short take tmds\n",
    "\n",
    "take tmds with p-value = 1.0 but without verification by C13_peaks\n",
    "\n",
    "Actually it is better use C13 validation, but when you spectrum consist only 500-1000 reliable ions, it may be good desicion because tmds may be toot small."
   ]
  },
  {
   "cell_type": "code",
   "execution_count": null,
   "metadata": {},
   "outputs": [],
   "source": [
    "spec = Spectrum().read_csv('data/sample3.txt', mapper={'mass':'mass','intensity':'intensity'}, sep=',', take_columns=['mass','intensity'])\n",
    "gdf = brutto_gen(elems={'C':(1,40),'H':(0,80), 'O':(0,40),'N':(0,2)})\n",
    "spec = spec.assign(generated_bruttos_table=gdf, rel_error=0.25)\n",
    "\n",
    "spec = spec.assign_by_tmds(p=1.0, C13_filter=False)\n",
    "\n",
    "draw.vk(spec)\n",
    "spec.squares_vk()"
   ]
  },
  {
   "cell_type": "code",
   "execution_count": null,
   "metadata": {},
   "outputs": [],
   "source": []
  }
 ],
 "metadata": {
  "kernelspec": {
   "display_name": "Python 3.8.8 ('base')",
   "language": "python",
   "name": "python3"
  },
  "language_info": {
   "codemirror_mode": {
    "name": "ipython",
    "version": 3
   },
   "file_extension": ".py",
   "mimetype": "text/x-python",
   "name": "python",
   "nbconvert_exporter": "python",
   "pygments_lexer": "ipython3",
   "version": "3.8.13"
  },
  "vscode": {
   "interpreter": {
    "hash": "7456f8c2ffaed130786514d94f2c51fd19c1c3ba9e4278dcccd00a001abcd749"
   }
  }
 },
 "nbformat": 4,
 "nbformat_minor": 4
}
