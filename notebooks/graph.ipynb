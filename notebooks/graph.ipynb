{
 "cells": [
  {
   "cell_type": "markdown",
   "metadata": {},
   "source": [
    "# Some graph tools"
   ]
  },
  {
   "cell_type": "code",
   "execution_count": null,
   "metadata": {},
   "outputs": [],
   "source": [
    "import sys\n",
    "sys.path.append('..')"
   ]
  },
  {
   "cell_type": "code",
   "execution_count": null,
   "metadata": {
    "scrolled": true
   },
   "outputs": [],
   "source": [
    "import numpy as np\n",
    "import networkx as nx\n",
    "import copy\n",
    "from nhsmass.spectrum import Spectrum\n",
    "from nhsmass.graph import GraphMetric, Vis\n",
    "import nhsmass.draw as draw"
   ]
  },
  {
   "cell_type": "code",
   "execution_count": null,
   "metadata": {},
   "outputs": [],
   "source": [
    "spec = Spectrum.read_csv('data/sample3.txt').assign(rel_error=0.25).drop_unassigned().calc_mass()\n",
    "spec2 = Spectrum.read_csv('data/sample4.txt', sep='\\t').assign(rel_error=0.5).drop_unassigned().calc_mass()"
   ]
  },
  {
   "cell_type": "markdown",
   "metadata": {},
   "source": [
    "calculate graph metric for TMDS"
   ]
  },
  {
   "cell_type": "code",
   "execution_count": null,
   "metadata": {},
   "outputs": [],
   "source": [
    "table = GraphMetric(spec).get_graph_table()\n",
    "table.sort_values(by='max_chain', ascending=False)"
   ]
  },
  {
   "cell_type": "markdown",
   "metadata": {},
   "source": [
    "calculate FDCEL distance metric"
   ]
  },
  {
   "cell_type": "code",
   "execution_count": null,
   "metadata": {},
   "outputs": [],
   "source": [
    "GraphMetric.calc_fdcel(spec, spec2)"
   ]
  },
  {
   "cell_type": "markdown",
   "metadata": {},
   "source": [
    "default dif table"
   ]
  },
  {
   "cell_type": "code",
   "execution_count": null,
   "metadata": {},
   "outputs": [],
   "source": [
    "Vis().gen_diftable()"
   ]
  },
  {
   "cell_type": "markdown",
   "metadata": {},
   "source": [
    "generate visualization for graph\n",
    "open sample.html to watch\n",
    "it is take a lot of time to calculate"
   ]
  },
  {
   "cell_type": "code",
   "execution_count": null,
   "metadata": {},
   "outputs": [],
   "source": [
    "spec_graph = Vis.generate(spec)\n",
    "spec_graph.to_gml('sample1.gml')"
   ]
  },
  {
   "cell_type": "markdown",
   "metadata": {},
   "source": [
    "custon diftabe"
   ]
  },
  {
   "cell_type": "code",
   "execution_count": null,
   "metadata": {},
   "outputs": [],
   "source": [
    "data = [ [1,2,1],\n",
    "        [1,0,2],\n",
    "        [0,2,1]]\n",
    "\n",
    "d = Vis.gen_diftable(count = data)"
   ]
  },
  {
   "cell_type": "markdown",
   "metadata": {},
   "source": [
    "gen visualizatiob with custom graph table"
   ]
  },
  {
   "cell_type": "code",
   "execution_count": null,
   "metadata": {},
   "outputs": [],
   "source": [
    "spec_graph = Vis.generate(spec, d)\n",
    "spec_graph.to_gml('sample2.gml')"
   ]
  },
  {
   "cell_type": "markdown",
   "metadata": {},
   "source": [
    "Find separate cluster in graph"
   ]
  },
  {
   "cell_type": "code",
   "execution_count": null,
   "metadata": {},
   "outputs": [],
   "source": [
    "gr = []\n",
    "for c in nx.connected_components(spec_graph.G.to_undirected()):\n",
    "    gr.append(spec_graph.G.to_undirected().subgraph(c).copy())\n",
    "\n",
    "for g in gr:\n",
    "    print(len(list(g.nodes)))"
   ]
  },
  {
   "cell_type": "code",
   "execution_count": null,
   "metadata": {},
   "outputs": [],
   "source": [
    "mas = np.array(list(gr[0].nodes))\n",
    "mas = mas.astype(float)"
   ]
  },
  {
   "cell_type": "code",
   "execution_count": null,
   "metadata": {},
   "outputs": [],
   "source": [
    "mas = np.array(list(gr[0].nodes))\n",
    "mas = mas.astype(float)\n",
    "\n",
    "s = spec.copy().drop_unassigned()\n",
    "\n",
    "s.table = s.table[s.table['calc_mass'].isin(mas)]\n",
    "draw.vk(s)\n",
    "draw.spectrum(s)"
   ]
  },
  {
   "cell_type": "code",
   "execution_count": null,
   "metadata": {},
   "outputs": [],
   "source": [
    "mas = np.array(list(gr[1].nodes))\n",
    "mas = mas.astype(float)\n",
    "\n",
    "s = spec.copy().drop_unassigned()\n",
    "\n",
    "s.table = s.table[s.table['calc_mass'].isin(mas)]\n",
    "draw.vk(s)\n",
    "draw.spectrum(s)"
   ]
  }
 ],
 "metadata": {
  "kernelspec": {
   "display_name": "Python 3.8.8 ('base')",
   "language": "python",
   "name": "python3"
  },
  "language_info": {
   "codemirror_mode": {
    "name": "ipython",
    "version": 3
   },
   "file_extension": ".py",
   "mimetype": "text/x-python",
   "name": "python",
   "nbconvert_exporter": "python",
   "pygments_lexer": "ipython3",
   "version": "3.8.13"
  },
  "vscode": {
   "interpreter": {
    "hash": "7456f8c2ffaed130786514d94f2c51fd19c1c3ba9e4278dcccd00a001abcd749"
   }
  }
 },
 "nbformat": 4,
 "nbformat_minor": 4
}
