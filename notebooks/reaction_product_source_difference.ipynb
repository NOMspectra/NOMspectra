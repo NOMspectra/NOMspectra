{
 "cells": [
  {
   "cell_type": "code",
   "execution_count": null,
   "metadata": {},
   "outputs": [],
   "source": [
    "import sys\n",
    "sys.path.append('..')"
   ]
  },
  {
   "cell_type": "code",
   "execution_count": null,
   "metadata": {
    "scrolled": true
   },
   "outputs": [],
   "source": [
    "from nhsmass.spectrum import Spectrum\n",
    "from nhsmass.diff import Tmds\n",
    "from nhsmass.chem import Reaction\n",
    "from nhsmass.brutto import brutto_gen\n",
    "import nhsmass.draw as draw"
   ]
  },
  {
   "cell_type": "markdown",
   "metadata": {},
   "source": [
    "#### Discovery difference of soruce with product\n",
    "\n",
    "In this example source was modifed by hydroquinone. So in product we expect to find source peak + quinone mass."
   ]
  },
  {
   "cell_type": "markdown",
   "metadata": {},
   "source": [
    "#### Load source"
   ]
  },
  {
   "cell_type": "code",
   "execution_count": null,
   "metadata": {},
   "outputs": [],
   "source": [
    "sourse = Spectrum().read_csv('data/sourse.csv', mapper={'m/z':'mass','I':'intensity'}, sep=',', take_columns=['mass','intensity'])\n",
    "gdf = brutto_gen(elems={'C':(1,40),'H':(0,80), 'O':(0,40),'N':(0,2)})\n",
    "sourse = sourse.assign(generated_bruttos_table=gdf, rel_error=0.5)\n",
    "draw.vk(sourse)"
   ]
  },
  {
   "cell_type": "markdown",
   "metadata": {},
   "source": [
    "#### Load product"
   ]
  },
  {
   "cell_type": "code",
   "execution_count": null,
   "metadata": {},
   "outputs": [],
   "source": [
    "product = Spectrum().read_csv('data/product.csv', mapper={'m/z':'mass','I':'intensity'}, sep=',', take_columns=['mass','intensity'])\n",
    "gdf = brutto_gen(elems={'C':(1,40),'H':(0,80), 'O':(0,40),'N':(0,2)})\n",
    "product = product.assign(generated_bruttos_table=gdf, rel_error=0.5)\n",
    "draw.vk(product)"
   ]
  },
  {
   "cell_type": "markdown",
   "metadata": {},
   "source": [
    "#### We can look difference spectrum"
   ]
  },
  {
   "cell_type": "code",
   "execution_count": null,
   "metadata": {},
   "outputs": [],
   "source": [
    "draw.vk(product - sourse)"
   ]
  },
  {
   "cell_type": "markdown",
   "metadata": {},
   "source": [
    "#### Now calculate total mass differnce statistic\n",
    "\n",
    "We use restrict brutto gen because we expect to find six carbon atom difference. But you can study another atoms ranges"
   ]
  },
  {
   "cell_type": "code",
   "execution_count": null,
   "metadata": {},
   "outputs": [],
   "source": [
    "tmds_spec = Tmds(spec=sourse).calc(other=product, p=0.2, C13_filter=False) \n",
    "tmds_spec = tmds_spec.assign(brutto_dict={'C':(6,7),'H':(0,13), 'O':(0,5)})\n",
    "tmds_spec = tmds_spec.calc_mass()\n",
    "draw.spectrum(tmds_spec)"
   ]
  },
  {
   "cell_type": "code",
   "execution_count": null,
   "metadata": {},
   "outputs": [],
   "source": [
    "tmds_spec.table.sort_values(by='intensity', ascending=False)"
   ]
  },
  {
   "cell_type": "markdown",
   "metadata": {},
   "source": [
    "Now we can see that most abudant mass-difference is C6H4O1-3, that contain in quinone fragment. We can propose that modification by quinone is occure."
   ]
  },
  {
   "cell_type": "markdown",
   "metadata": {},
   "source": [
    "#### Find source and product peaks that was modifed\n",
    "\n",
    "Now we look which peaks in sourse was modifed by C6H4O2 fragment, and find them in product."
   ]
  },
  {
   "cell_type": "code",
   "execution_count": null,
   "metadata": {},
   "outputs": [],
   "source": [
    "gdf = brutto_gen(elems={'C':(6,7),'H':(4,5), 'O':(2,3)})"
   ]
  },
  {
   "cell_type": "code",
   "execution_count": null,
   "metadata": {},
   "outputs": [],
   "source": [
    "gdf"
   ]
  },
  {
   "cell_type": "code",
   "execution_count": null,
   "metadata": {},
   "outputs": [],
   "source": [
    "reaction = Reaction(sourse=sourse, product=product)"
   ]
  },
  {
   "cell_type": "code",
   "execution_count": null,
   "metadata": {},
   "outputs": [],
   "source": [
    "reaction = reaction.find_modification(gdf)"
   ]
  },
  {
   "cell_type": "code",
   "execution_count": null,
   "metadata": {},
   "outputs": [],
   "source": [
    "reaction.draw_modification()"
   ]
  }
 ],
 "metadata": {
  "kernelspec": {
   "display_name": "Python 3.8.8 ('base')",
   "language": "python",
   "name": "python3"
  },
  "language_info": {
   "codemirror_mode": {
    "name": "ipython",
    "version": 3
   },
   "file_extension": ".py",
   "mimetype": "text/x-python",
   "name": "python",
   "nbconvert_exporter": "python",
   "pygments_lexer": "ipython3",
   "version": "3.8.13"
  },
  "vscode": {
   "interpreter": {
    "hash": "7456f8c2ffaed130786514d94f2c51fd19c1c3ba9e4278dcccd00a001abcd749"
   }
  }
 },
 "nbformat": 4,
 "nbformat_minor": 4
}
